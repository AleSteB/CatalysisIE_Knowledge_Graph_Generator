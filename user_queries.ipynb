{
 "cells": [
  {
   "cell_type": "code",
   "execution_count": 1,
   "id": "e5b463d6",
   "metadata": {
    "scrolled": true
   },
   "outputs": [
    {
     "name": "stderr",
     "output_type": "stream",
     "text": [
      "C:\\Users\\smaxbehr\\AppData\\Local\\anaconda3\\envs\\testenv\\lib\\site-packages\\thinc\\neural\\train.py:7: DeprecationWarning: Using or importing the ABCs from 'collections' instead of from 'collections.abc' is deprecated since Python 3.3,and in 3.9 it will stop working\n",
      "  from .optimizers import Adam, linear_decay\n",
      "C:\\Users\\smaxbehr\\AppData\\Local\\anaconda3\\envs\\testenv\\lib\\site-packages\\thinc\\check.py:4: DeprecationWarning: Using or importing the ABCs from 'collections' instead of from 'collections.abc' is deprecated since Python 3.3,and in 3.9 it will stop working\n",
      "  from collections import Sequence, Sized, Iterable, Callable\n",
      "C:\\Users\\smaxbehr\\AppData\\Local\\anaconda3\\envs\\testenv\\lib\\site-packages\\plac_ext.py:6: DeprecationWarning: the imp module is deprecated in favour of importlib; see the module's documentation for alternative uses\n",
      "  import imp\n",
      "C:\\Users\\smaxbehr\\AppData\\Local\\anaconda3\\envs\\testenv\\lib\\site-packages\\tqdm\\auto.py:21: TqdmWarning: IProgress not found. Please update jupyter and ipywidgets. See https://ipywidgets.readthedocs.io/en/stable/user_install.html\n",
      "  from .autonotebook import tqdm as notebook_tqdm\n"
     ]
    }
   ],
   "source": [
    "import pandas as pd\n",
    "from queries import *"
   ]
  },
  {
   "cell_type": "code",
   "execution_count": 2,
   "id": "0eb69e9c",
   "metadata": {
    "scrolled": false
   },
   "outputs": [
    {
     "name": "stderr",
     "output_type": "stream",
     "text": [
      "* Owlready2 * WARNING: DataProperty http://xmlns.com/foaf/0.1/name belongs to more than one entity types: [owl.AnnotationProperty, owl.DatatypeProperty]; I'm trying to fix it...\n",
      "* Owlready2 * Running HermiT...\n",
      "    java -Xmx2000M -cp C:\\Users\\smaxbehr\\AppData\\Local\\anaconda3\\envs\\testenv\\lib\\site-packages\\owlready2\\hermit;C:\\Users\\smaxbehr\\AppData\\Local\\anaconda3\\envs\\testenv\\lib\\site-packages\\owlready2\\hermit\\HermiT.jar org.semanticweb.HermiT.cli.CommandLine -c -O -D -I file:///C:/Users/smaxbehr/AppData/Local/Temp/tmpx2_mwk3h\n",
      "* Owlready2 * HermiT took 54.45159721374512 seconds\n",
      "* Owlready * Reparenting property.AFX_0000546: {property.AFX_0000395, owl.ObjectProperty} => {property.AFX_0000395}\n",
      "* Owlready * Reparenting obo.RO_0002530: {owl.ObjectProperty, obo.RO_0002529, obo.RO_0002515} => {obo.RO_0002529, obo.RO_0002515}\n",
      "* Owlready * Reparenting obo.RO_0002304: {owl.ObjectProperty, obo.RO_0002411} => {obo.RO_0002411}\n",
      "* Owlready * Reparenting obo.RO_0002412: {owl.ObjectProperty, obo.RO_0002411, obo.RO_0002090} => {obo.RO_0002411, obo.RO_0002090}\n",
      "* Owlready * Reparenting obo.RO_0002305: {owl.ObjectProperty, obo.RO_0002411} => {obo.RO_0002411}\n",
      "* Owlready * Reparenting obo.RO_0003303: {owl.ObjectProperty, obo.RO_0003302} => {obo.RO_0003302}\n",
      "* Owlready * Reparenting obo.RO_0003304: {owl.ObjectProperty, obo.RO_0003302} => {obo.RO_0003302}\n",
      "* Owlready * Reparenting property.AFX_0000551: {owl.ObjectProperty, owl.IrreflexiveProperty, obo.RO_0002351, owl.AsymmetricProperty} => {obo.RO_0002351}\n",
      "* Owlready * Reparenting property.AFX_0002724: {property.AFX_0002723, owl.ObjectProperty} => {property.AFX_0002723}\n",
      "* Owlready * Reparenting property.AFX_0002696: {owl.ObjectProperty, property.AFX_0002803} => {property.AFX_0002803}\n",
      "* Owlready * Reparenting property.AFX_0002801: {owl.ObjectProperty, property.AFX_0002803} => {property.AFX_0002803}\n",
      "* Owlready * Reparenting property.AFX_0000834: {owl.ObjectProperty} => {property.AFX_0002802}\n",
      "* Owlready * Reparenting property.AFX_0002836: {owl.ObjectProperty, property.AFX_0002834} => {property.AFX_0002834}\n",
      "* Owlready * Reparenting property.AFX_0002838: {owl.ObjectProperty, property.AFX_0002837} => {property.AFX_0002837}\n",
      "* Owlready * Reparenting property.AFX_0002839: {owl.ObjectProperty, property.AFX_0002837} => {property.AFX_0002837}\n",
      "* Owlready * Reparenting obo.RO_0002263: {owl.ObjectProperty, obo.RO_0002264} => {obo.RO_0002264}\n",
      "* Owlready * Reparenting obo.RO_0002431: {owl.ObjectProperty, obo.RO_0002500, obo.RO_0002264, obo.RO_0002328} => {obo.RO_0002264, obo.RO_0002328}\n",
      "* Owlready * Reparenting obo.BFO_0000184: {obo.BFO_0000066, owl.ObjectProperty, owl.InverseFunctionalProperty} => {obo.BFO_0000066, owl.InverseFunctionalProperty}\n",
      "* Owlready * Reparenting obo.RO_0002584: {owl.ObjectProperty, obo.RO_0002595, obo.RO_0002328} => {obo.RO_0002595, obo.RO_0002328}\n",
      "* Owlready * Reparenting obo.RO_0002216: {owl.ObjectProperty, obo.RO_0002500, obo.RO_0002328} => {obo.RO_0002500, obo.RO_0002328}\n",
      "* Owlready * Reparenting property.AFX_0002686: {owl.ObjectProperty, property.AFX_0002718} => {property.AFX_0002718}\n",
      "* Owlready * Reparenting property.AFX_0000557: {owl.ObjectProperty, property.AFX_0000331} => {property.AFX_0000331}\n",
      "* Owlready * Reparenting property.AFX_0000558: {owl.ObjectProperty, property.AFX_0000331} => {property.AFX_0000331}\n",
      "* Owlready * Reparenting obo.BFO_0000062: {owl.TransitiveProperty, owl.ObjectProperty, obo.RO_0002086} => {obo.RO_0002086}\n",
      "* Owlready * Reparenting property.AFX_0002720: {owl.ObjectProperty, owl.IrreflexiveProperty, obo.RO_0002350, owl.AsymmetricProperty} => {obo.RO_0002350}\n",
      "* Owlready * Reparenting obo.RO_0002461: {owl.ObjectProperty, obo.RO_0000056} => {obo.RO_0000056}\n",
      "* Owlready * Reparenting property.AFX_0002875: {owl.ObjectProperty, obo.RO_0000056} => {obo.RO_0000056}\n",
      "* Owlready * Reparenting property.AFX_0000553: {owl.ObjectProperty, property.AFX_0000354} => {property.AFX_0000354}\n",
      "* Owlready * Reparenting property.AFX_0000554: {owl.ObjectProperty, property.AFX_0000354} => {property.AFX_0000354}\n",
      "* Owlready * Reparenting property.AFX_0002855: {owl.ObjectProperty, property.AFX_0002699} => {property.AFX_0002699}\n",
      "* Owlready * Reparenting obo.RO_0002428: {owl.ObjectProperty, obo.RO_0002263, obo.RO_0002431} => {obo.RO_0002263, obo.RO_0002431}\n",
      "* Owlready * Reparenting obo.RO_0002404: {owl.ObjectProperty, obo.BFO_0000062, obo.RO_0002427} => {obo.BFO_0000062, obo.RO_0002427}\n",
      "* Owlready * Reparenting property.AFX_0001048: {owl.ObjectProperty, obo.RO_0001015} => {obo.RO_0001015}\n",
      "* Owlready * Reparenting property.AFX_0002835: {property.AFX_0002833, owl.ObjectProperty} => {property.AFX_0002833}\n",
      "* Owlready * Reparenting core.narrower: {owl.ObjectProperty, core.narrowerTransitive} => {core.narrowerTransitive}\n",
      "* Owlready * Reparenting obo.OBI_0000314: {owl.ObjectProperty, property.AFX_0002821} => {property.AFX_0002821}\n",
      "* Owlready * Reparenting obo.RO_0002344: {owl.ObjectProperty, obo.RO_0002337} => {obo.RO_0002337}\n",
      "* Owlready * Reparenting obo.RO_0002341: {owl.ObjectProperty, obo.RO_0002337} => {obo.RO_0002337}\n",
      "* Owlready * Reparenting obo.RO_0002418: {owl.TransitiveProperty, owl.ObjectProperty, obo.RO_0002501} => {obo.RO_0002501}\n",
      "* Owlready * Reparenting property.AFX_0002878: {owl.ObjectProperty, property.AFX_0002730} => {property.AFX_0002730}\n",
      "* Owlready * Reparenting obo.RO_0002229: {owl.ObjectProperty, obo.RO_0002222, obo.BFO_0000050} => {obo.BFO_0000050, obo.RO_0002222}\n",
      "* Owlready * Reparenting obo.RO_0002223: {owl.ObjectProperty, obo.RO_0002222, obo.BFO_0000050} => {obo.BFO_0000050, obo.RO_0002222}\n",
      "* Owlready * Reparenting property.AFX_0002846: {owl.ObjectProperty, obo.BFO_0000050} => {obo.BFO_0000050}\n",
      "* Owlready * Reparenting obo.RO_0002012: {owl.ObjectProperty, obo.RO_0002418, obo.BFO_0000050} => {obo.RO_0002418, obo.BFO_0000050}\n",
      "* Owlready * Reparenting obo.RO_0002507: {obo.RO_0002509, owl.ObjectProperty, obo.RO_0002559, obo.BFO_0000050} => {obo.RO_0002509, obo.BFO_0000050, obo.RO_0002559}\n",
      "* Owlready * Reparenting core.mappingRelation: {owl.ObjectProperty, core.semanticRelation} => {core.semanticRelation}\n",
      "* Owlready * Reparenting core.broaderTransitive: {owl.TransitiveProperty, owl.ObjectProperty, core.semanticRelation} => {owl.TransitiveProperty, core.semanticRelation}\n",
      "* Owlready * Reparenting core.related: {owl.ObjectProperty, owl.SymmetricProperty, core.semanticRelation} => {owl.SymmetricProperty, core.semanticRelation}\n",
      "* Owlready * Reparenting obo.RO_0002411: {owl.ObjectProperty, obo.RO_0002418, obo.BFO_0000063} => {obo.BFO_0000063, obo.RO_0002418}\n",
      "* Owlready * Reparenting obo.RO_0002211: {owl.ObjectProperty, obo.RO_0002418} => {obo.RO_0002418}\n",
      "* Owlready * Reparenting obo.RO_0000085: {owl.ObjectProperty, obo.RO_0000053} => {obo.RO_0000053}\n",
      "* Owlready * Reparenting obo.RO_0000086: {owl.ObjectProperty, obo.RO_0000053} => {obo.RO_0000053}\n",
      "* Owlready * Reparenting obo.RO_0000091: {owl.ObjectProperty, obo.RO_0000053} => {obo.RO_0000053}\n",
      "* Owlready * Reparenting obo.RO_0002264: {owl.ObjectProperty, obo.RO_0002500} => {obo.RO_0002500}\n",
      "* Owlready * Reparenting obo.RO_0002221: {owl.ObjectProperty, obo.RO_0002220} => {obo.RO_0002220}\n",
      "* Owlready * Reparenting obo.RO_0002219: {owl.ObjectProperty, obo.RO_0002220} => {obo.RO_0002220}\n",
      "* Owlready * Reparenting obo.RO_0002334: {owl.TransitiveProperty, owl.ObjectProperty, obo.RO_0002427} => {obo.RO_0002427}\n",
      "* Owlready * Reparenting core.narrowMatch: {core.narrower, owl.ObjectProperty, core.mappingRelation} => {core.narrower, core.mappingRelation}\n",
      "* Owlready * Reparenting obo.RO_0002515: {owl.ObjectProperty, obo.RO_0002527} => {obo.RO_0002527}\n",
      "* Owlready * Reparenting obo.RO_0002528: {owl.TransitiveProperty, owl.ObjectProperty, obo.RO_0002527} => {owl.TransitiveProperty, obo.RO_0002527}\n",
      "* Owlready * Reparenting obo.RO_0002405: {obo.RO_0002087, owl.ObjectProperty, obo.RO_0002404} => {obo.RO_0002087, obo.RO_0002404}\n",
      "* Owlready * Reparenting obo.BFO_0000185: {owl.ObjectProperty, obo.BFO_0000067, owl.InverseFunctionalProperty} => {obo.BFO_0000067, owl.InverseFunctionalProperty}\n",
      "* Owlready * Reparenting obo.RO_0002430: {owl.ObjectProperty, obo.RO_0002428} => {obo.RO_0002428}\n",
      "* Owlready * Reparenting obo.RO_0002429: {owl.ObjectProperty, obo.RO_0002428} => {obo.RO_0002428}\n",
      "* Owlready * Reparenting obo.RO_0002500: {owl.ObjectProperty, obo.RO_0002595} => {obo.RO_0002595}\n",
      "* Owlready * Reparenting obo.RO_0002220: {obo.RO_0002163, owl.ObjectProperty} => {obo.RO_0002163}\n",
      "* Owlready * Reparenting property.AFX_0002725: {owl.ObjectProperty, property.AFX_0002722} => {property.AFX_0002722}\n",
      "* Owlready * Reparenting obo.RO_0002508: {owl.ObjectProperty, obo.RO_0002566} => {obo.RO_0002566, obo.BFO_0000051}\n",
      "* Owlready * Reparenting obo.RO_0002002: {obo.RO_0002323, owl.ObjectProperty} => {obo.RO_0002323}\n",
      "* Owlready * Reparenting obo.RO_0002131: {obo.RO_0002323, owl.ObjectProperty} => {obo.RO_0002323}\n",
      "* Owlready * Reparenting obo.RO_0002170: {obo.RO_0002323, owl.ObjectProperty} => {obo.RO_0002323}\n",
      "* Owlready * Reparenting obo.RO_0002163: {obo.RO_0002323, owl.ObjectProperty} => {obo.RO_0002323}\n",
      "* Owlready * Reparenting obo.RO_0002176: {obo.RO_0002323, owl.ObjectProperty} => {obo.RO_0002323}\n",
      "* Owlready * Reparenting obo.RO_0002177: {obo.RO_0002323, owl.ObjectProperty} => {obo.RO_0002323}\n",
      "* Owlready * Reparenting obo.RO_0002150: {obo.RO_0002323, owl.ObjectProperty} => {obo.RO_0002323}\n",
      "* Owlready * Reparenting property.AFX_0000696: {owl.ObjectProperty, property.AFX_0000399} => {property.AFX_0000399}\n",
      "* Owlready * Reparenting property.AFX_0002748: {owl.ObjectProperty, property.AFX_0000399} => {property.AFX_0000399}\n",
      "* Owlready * Reparenting property.AFX_0002731: {owl.ObjectProperty, property.AFX_0000388} => {property.AFX_0000388}\n",
      "* Owlready * Reparenting property.AFX_0002793: {owl.TransitiveProperty, owl.ObjectProperty, obo.BFO_0000051} => {obo.BFO_0000051}\n",
      "* Owlready * Reparenting property.AFX_0000940: {owl.ObjectProperty, obo.BFO_0000051} => {obo.BFO_0000051}\n",
      "* Owlready * Reparenting obo.BFO_0000117: {owl.TransitiveProperty, owl.ObjectProperty, obo.BFO_0000051, obo.RO_0002222} => {obo.BFO_0000051, obo.RO_0002222}\n",
      "* Owlready * Reparenting obo.RO_0002180: {owl.ObjectProperty, obo.BFO_0000051} => {obo.BFO_0000051}\n",
      "* Owlready * Reparenting obo.RO_0002083: {owl.TransitiveProperty, owl.ObjectProperty, obo.RO_0002081} => {owl.TransitiveProperty, obo.RO_0002081}\n",
      "* Owlready * Reparenting obo.RO_0002082: {owl.TransitiveProperty, owl.ObjectProperty, obo.RO_0002081} => {owl.TransitiveProperty, obo.RO_0002081}\n",
      "* Owlready * Reparenting obo.RO_0000052: {owl.ObjectProperty, obo.RO_0002314} => {obo.RO_0002314}\n",
      "* Owlready * Reparenting property.AFX_0002800: {owl.TransitiveProperty, owl.ObjectProperty, property.AFX_0002846} => {property.AFX_0002846}\n",
      "* Owlready * Reparenting obo.OBI_0000645: {owl.TransitiveProperty, owl.ObjectProperty, property.AFX_0002846} => {property.AFX_0002846}\n",
      "* Owlready * Reparenting obo.BFO_0000138: {owl.TransitiveProperty, owl.ObjectProperty, obo.BFO_0000132, property.AFX_0002846} => {obo.BFO_0000132, property.AFX_0002846}\n",
      "* Owlready * Reparenting obo.RO_0002326: {owl.ObjectProperty, obo.RO_0002216} => {obo.RO_0002216}\n",
      "* Owlready * Reparenting obo.RO_0002215: {owl.ObjectProperty, obo.RO_0002216} => {obo.RO_0002216}\n",
      "* Owlready * Reparenting property.AFX_0002734: {owl.ObjectProperty, property.AFX_0000353} => {property.AFX_0000353}\n",
      "* Owlready * Reparenting property.AFX_0002735: {owl.ObjectProperty, property.AFX_0000353} => {property.AFX_0000353}\n",
      "* Owlready * Reparenting property.AFX_0000561: {owl.ObjectProperty, property.AFX_0000314} => {property.AFX_0000314}\n",
      "* Owlready * Reparenting property.AFX_0000560: {owl.ObjectProperty, property.AFX_0000314} => {property.AFX_0000314}\n",
      "* Owlready * Reparenting obo.RO_0002081: {owl.ObjectProperty, obo.RO_0002222} => {obo.RO_0002222}\n",
      "* Owlready * Reparenting obo.BFO_0000063: {owl.TransitiveProperty, owl.ObjectProperty, obo.RO_0002222} => {owl.TransitiveProperty, obo.RO_0002222}\n",
      "* Owlready * Reparenting obo.RO_0002089: {owl.TransitiveProperty, owl.ObjectProperty, obo.RO_0002222} => {owl.TransitiveProperty, obo.RO_0002222}\n",
      "* Owlready * Reparenting obo.RO_0002093: {owl.ObjectProperty, obo.RO_0002222} => {obo.RO_0002222}\n",
      "* Owlready * Reparenting obo.RO_0002086: {owl.TransitiveProperty, owl.ObjectProperty, obo.RO_0002222} => {owl.TransitiveProperty, obo.RO_0002222}\n",
      "* Owlready * Reparenting obo.RO_0002091: {owl.ObjectProperty, obo.RO_0002222} => {obo.RO_0002222}\n",
      "* Owlready * Reparenting obo.BFO_0000050: {owl.TransitiveProperty, owl.ObjectProperty, obo.RO_0002131} => {owl.TransitiveProperty, obo.RO_0002131}\n",
      "* Owlready * Reparenting obo.RO_0002379: {owl.ObjectProperty, obo.RO_0002131} => {obo.RO_0002131}\n",
      "* Owlready * Reparenting obo.RO_0002570: {owl.ObjectProperty, obo.RO_0002131} => {obo.RO_0002131}\n",
      "* Owlready * Reparenting obo.RO_0002526: {owl.ObjectProperty, obo.RO_0002131, obo.RO_0002514} => {obo.RO_0002131, obo.RO_0002514}\n",
      "* Owlready * Reparenting obo.BFO_0000051: {owl.TransitiveProperty, owl.ObjectProperty, obo.RO_0002131} => {owl.TransitiveProperty, obo.RO_0002131}\n",
      "* Owlready * Reparenting obo.RO_0002509: {owl.ObjectProperty, obo.RO_0002131, obo.RO_0002506} => {obo.RO_0002131, obo.RO_0002506}\n",
      "* Owlready * Reparenting obo.RO_0002371: {owl.ObjectProperty, owl.SymmetricProperty, obo.RO_0002177, obo.RO_0002170} => {obo.RO_0002170, owl.SymmetricProperty, obo.RO_0002177}\n",
      "* Owlready * Reparenting property.AFX_0001178: {owl.ObjectProperty, obo.RO_0002170} => {obo.RO_0002170}\n",
      "* Owlready * Reparenting property.AFX_0001179: {owl.ObjectProperty, obo.RO_0002170} => {obo.RO_0002170}\n",
      "* Owlready * Reparenting obo.RO_0002212: {obo.RO_0002305, owl.ObjectProperty, obo.RO_0002211} => {obo.RO_0002305, obo.RO_0002211}\n",
      "* Owlready * Reparenting obo.RO_0002213: {owl.ObjectProperty, obo.RO_0002211, obo.RO_0002304} => {obo.RO_0002211, obo.RO_0002304}\n",
      "* Owlready * Reparenting property.AFX_0002690: {owl.ObjectProperty, property.AFX_0002684} => {property.AFX_0002684}\n",
      "* Owlready * Reparenting property.AFX_0002718: {owl.ObjectProperty, property.AFX_0002684} => {property.AFX_0002684}\n",
      "* Owlready * Reparenting obo.BFO_0000139: {owl.TransitiveProperty, owl.ObjectProperty, obo.BFO_0000132} => {obo.BFO_0000132}\n",
      "* Owlready * Reparenting property.AFX_0000197: {obo.RO_0000057, owl.ObjectProperty} => {obo.RO_0000057}\n",
      "* Owlready * Reparenting property.AFX_0000399: {obo.RO_0000057, owl.ObjectProperty} => {obo.RO_0000057}\n",
      "* Owlready * Reparenting obo.RO_0002505: {obo.RO_0000057, owl.ObjectProperty} => {obo.RO_0000057}\n",
      "* Owlready * Reparenting property.AFX_0002876: {obo.RO_0000057, owl.ObjectProperty} => {obo.RO_0000057}\n",
      "* Owlready * Reparenting property.AFX_0002745: {obo.RO_0000057, owl.ObjectProperty} => {obo.RO_0000057}\n",
      "* Owlready * Reparenting obo.RO_0002332: {obo.RO_0000057, owl.ObjectProperty} => {obo.RO_0000057}\n",
      "* Owlready * Reparenting property.AFX_0000395: {obo.RO_0000057, owl.ObjectProperty} => {obo.RO_0000057}\n",
      "* Owlready * Reparenting obo.RO_0002527: {owl.ObjectProperty, owl.SymmetricProperty, obo.RO_0002514} => {owl.SymmetricProperty, obo.RO_0002514}\n",
      "* Owlready * Reparenting property.AFX_0002687: {owl.ObjectProperty, property.AFX_0002686} => {property.AFX_0002686}\n",
      "* Owlready * Reparenting property.AFX_0000072: {owl.ObjectProperty, property.AFX_0002686} => {property.AFX_0002686}\n",
      "* Owlready * Reparenting property.AFX_0002688: {owl.ObjectProperty, property.AFX_0002686} => {property.AFX_0002686}\n",
      "* Owlready * Reparenting property.AFX_0002689: {owl.ObjectProperty, property.AFX_0002686} => {property.AFX_0002686}\n",
      "* Owlready * Reparenting property.AFX_0002717: {owl.ObjectProperty, obo.IAO_0000219} => {obo.IAO_0000219}\n",
      "* Owlready * Reparenting obo.RO_0002336: {owl.ObjectProperty, obo.RO_0002334} => {obo.RO_0002334}\n",
      "* Owlready * Reparenting obo.RO_0002335: {owl.ObjectProperty, obo.RO_0002334} => {obo.RO_0002334}\n",
      "* Owlready * Reparenting core.broader: {owl.ObjectProperty, core.broaderTransitive} => {core.broaderTransitive}\n",
      "* Owlready * Reparenting obo.RO_0002506: {owl.ObjectProperty, obo.RO_0002410} => {obo.RO_0002410}\n",
      "* Owlready * Reparenting obo.RO_0002501: {owl.TransitiveProperty, owl.ObjectProperty, obo.RO_0002410} => {owl.TransitiveProperty, obo.RO_0002410}\n",
      "* Owlready * Reparenting obo.RO_0003302: {owl.ObjectProperty, obo.RO_0002410} => {obo.RO_0002410}\n",
      "* Owlready * Reparenting obo.RO_0002595: {owl.ObjectProperty, obo.RO_0002410} => {obo.RO_0002410}\n",
      "* Owlready * Reparenting obo.RO_0002342: {owl.ObjectProperty, obo.RO_0002344} => {obo.RO_0002344}\n",
      "* Owlready * Reparenting obo.RO_0002339: {owl.ObjectProperty, obo.RO_0002344} => {obo.RO_0002344}\n",
      "* Owlready * Reparenting obo.RO_0002338: {owl.ObjectProperty, obo.RO_0002344} => {obo.RO_0002344}\n",
      "* Owlready * Reparenting property.AFX_0002704: {owl.ObjectProperty, obo.IAO_0000136} => {obo.IAO_0000136}\n",
      "* Owlready * Reparenting property.AFX_0002842: {owl.ObjectProperty, obo.IAO_0000136} => {obo.IAO_0000136}\n",
      "* Owlready * Reparenting property.AFX_0002699: {owl.ObjectProperty, obo.IAO_0000136} => {obo.IAO_0000136}\n",
      "* Owlready * Reparenting property.AFX_0000388: {owl.ObjectProperty, obo.IAO_0000136} => {obo.IAO_0000136}\n",
      "* Owlready * Reparenting property.AFX_0002806: {owl.ObjectProperty, obo.IAO_0000136} => {obo.IAO_0000136}\n",
      "* Owlready * Reparenting obo.IAO_0000219: {owl.ObjectProperty, obo.IAO_0000136} => {obo.IAO_0000136}\n",
      "* Owlready * Reparenting property.AFX_0002703: {owl.ObjectProperty, obo.BFO_0000133} => {obo.BFO_0000133}\n",
      "* Owlready * Reparenting obo.RO_0002566: {owl.ObjectProperty, obo.RO_0002506} => {obo.RO_0002506}\n",
      "* Owlready * Reparenting core.topConceptOf: {owl.ObjectProperty, core.inScheme} => {core.inScheme}\n",
      "* Owlready * Reparenting obo.RO_0000081: {owl.ObjectProperty, obo.RO_0000052} => {obo.RO_0000052}\n",
      "* Owlready * Reparenting obo.RO_0000092: {owl.ObjectProperty, obo.RO_0000052} => {obo.RO_0000052}\n",
      "* Owlready * Reparenting obo.BFO_0000118: {owl.TransitiveProperty, owl.ObjectProperty, property.AFX_0002793, obo.BFO_0000117} => {property.AFX_0002793, obo.BFO_0000117}\n",
      "* Owlready * Reparenting obo.RO_0002327: {owl.ObjectProperty, obo.RO_0002215} => {obo.RO_0002215}\n",
      "* Owlready * Reparenting obo.RO_0002607: {obo.RO_0002610, owl.ObjectProperty} => {obo.RO_0002610}\n",
      "* Owlready * Reparenting obo.RO_0002331: {owl.ObjectProperty, obo.RO_0002431} => {obo.RO_0002431}\n",
      "* Owlready * Reparenting obo.RO_0002462: {obo.RO_0002461, owl.ObjectProperty} => {obo.RO_0002461}\n",
      "* Owlready * Reparenting obo.RO_0002463: {obo.RO_0002461, owl.ObjectProperty} => {obo.RO_0002461}\n",
      "* Owlready * Reparenting property.AFX_0000974: {owl.TransitiveProperty, owl.ObjectProperty, property.AFX_0000972} => {property.AFX_0000972}\n",
      "* Owlready * Reparenting property.AFX_0002832: {owl.ObjectProperty, property.AFX_0002793} => {property.AFX_0002793}\n",
      "* Owlready * Reparenting obo.RO_0002351: {owl.ObjectProperty, owl.IrreflexiveProperty, property.AFX_0002793, owl.AsymmetricProperty} => {owl.AsymmetricProperty, owl.IrreflexiveProperty, property.AFX_0002793}\n",
      "* Owlready * Reparenting obo.OBI_0000643: {owl.TransitiveProperty, owl.ObjectProperty, property.AFX_0002793} => {property.AFX_0002793}\n",
      "* Owlready * Reparenting obo.RO_0002314: {owl.ObjectProperty, obo.RO_0002502} => {obo.RO_0002502}\n",
      "* Owlready * Reparenting obo.RO_0002503: {owl.ObjectProperty, obo.RO_0002502} => {obo.RO_0002502}\n",
      "* Owlready * Reparenting property.AFX_0002722: {owl.TransitiveProperty, owl.ObjectProperty, obo.RO_0002502} => {owl.TransitiveProperty, obo.RO_0002502}\n",
      "* Owlready * Reparenting obo.RO_0002410: {owl.ObjectProperty, obo.RO_0002609} => {obo.RO_0002609}\n",
      "* Owlready * Reparenting obo.RO_0002610: {owl.ObjectProperty, obo.RO_0002609} => {obo.RO_0002609}\n",
      "* Owlready * Reparenting property.AFX_0002862: {property.AFX_0000675, owl.DatatypeProperty} => {property.AFX_0000675}\n",
      "* Owlready * Reparenting property.AFX_0001732: {property.AFX_0000690, owl.DatatypeProperty} => {property.AFX_0000690}\n",
      "* Owlready * Reparenting property.AFX_0000672: {property.AFX_0000670, owl.DatatypeProperty} => {property.AFX_0000670}\n",
      "* Owlready * Reparenting property.AFX_0000671: {property.AFX_0000670, owl.DatatypeProperty} => {property.AFX_0000670}\n",
      "* Owlready * Reparenting property.AFX_0002861: {property.AFX_0000671, owl.DatatypeProperty} => {property.AFX_0000671}\n",
      "* Owlready * Reparenting property.AFX_0000675: {property.AFX_0000674, owl.DatatypeProperty} => {property.AFX_0000674}\n",
      "* Owlready * Reparenting property.AFX_0000676: {property.AFX_0000674, owl.DatatypeProperty} => {property.AFX_0000674}\n",
      "* Owlready * Reparenting property.AFX_0001198: {property.AFX_0000604, owl.DatatypeProperty} => {property.AFX_0000604}\n",
      "* Owlready * (NB: only changes on entities loaded in Python are shown, other changes are done but not listed)\n"
     ]
    },
    {
     "name": "stdout",
     "output_type": "stream",
     "text": [
      "The afo_new ontology consists of following publications:\n"
     ]
    },
    {
     "data": {
      "text/html": [
       "<div>\n",
       "<style scoped>\n",
       "    .dataframe tbody tr th:only-of-type {\n",
       "        vertical-align: middle;\n",
       "    }\n",
       "\n",
       "    .dataframe tbody tr th {\n",
       "        vertical-align: top;\n",
       "    }\n",
       "\n",
       "    .dataframe thead th {\n",
       "        text-align: right;\n",
       "    }\n",
       "</style>\n",
       "<table border=\"1\" class=\"dataframe\">\n",
       "  <thead>\n",
       "    <tr style=\"text-align: right;\">\n",
       "      <th></th>\n",
       "      <th>DOI</th>\n",
       "      <th>Title</th>\n",
       "    </tr>\n",
       "  </thead>\n",
       "  <tbody>\n",
       "    <tr>\n",
       "      <th>0</th>\n",
       "      <td>10.3390/catal5041737</td>\n",
       "      <td>Synthesis of Ethanol from Syngas over Rh/MCM-41 Catalyst: Effect of Water on Product Selectivity</td>\n",
       "    </tr>\n",
       "  </tbody>\n",
       "</table>\n",
       "</div>"
      ],
      "text/plain": [
       "                    DOI  \\\n",
       "0  10.3390/catal5041737   \n",
       "\n",
       "                                                                                              Title  \n",
       "0  Synthesis of Ethanol from Syngas over Rh/MCM-41 Catalyst: Effect of Water on Product Selectivity  "
      ]
     },
     "metadata": {},
     "output_type": "display_data"
    }
   ],
   "source": [
    "#load the ontology from \"./ontologies/\" and perform reasoning\n",
    "#onto_name= \"afo_dataset-1\" #input name of the ontology\n",
    "onto_name= \"afo_new\" #input name of the ontology\n",
    "\n",
    "#perform reasoning, get dois from publications in the extended ontology\n",
    "onto_pub_list,onto,df=reasoning_dois_onto(onto_name)\n",
    "\n",
    "pd.set_option('display.max_rows', None)\n",
    "pd.set_option('display.max_columns', None)\n",
    "pd.set_option('display.width', None)\n",
    "pd.set_option('display.max_colwidth', None)\n",
    " \n",
    "display(df)\n"
   ]
  },
  {
   "cell_type": "markdown",
   "id": "2e8b6797",
   "metadata": {},
   "source": [
    "define DOI if only publications similar to specific publication in ontology should be queried from scopus\\\n",
    "if all publications in ontology should be used for query define the variable as:\\\n",
    "`doi = None`"
   ]
  },
  {
   "cell_type": "code",
   "execution_count": 4,
   "id": "6877ea8a",
   "metadata": {},
   "outputs": [],
   "source": [
    "doi = r'10.3390/catal5041737' "
   ]
  },
  {
   "cell_type": "markdown",
   "id": "134f2893",
   "metadata": {},
   "source": [
    "Retrieve an abstract of the specific publication in the ontology given the DOI of the publication "
   ]
  },
  {
   "cell_type": "code",
   "execution_count": 5,
   "id": "619531a9",
   "metadata": {},
   "outputs": [
    {
     "name": "stdout",
     "output_type": "stream",
     "text": [
      "Abstract:The thermochemical processing of biomass is an alternative route for the manufacture of fuel-grade ethanol, in which the catalytic conversion of syngas to ethanol is a key step. The search for novel catalyst formulations, active sites and types of support is of current interest. In this work, the catalytic performance of an Rh/MCM-41 catalyst has been evaluated and compared with a typical Rh/SiO2 catalyst. They have been compared at identical reaction conditions (280 °C and 20 bar), at low syngas conversion (2.8%) and at same metal dispersion (H/Rh = 22%). Under these conditions, the catalysts showed different product selectivities. The differences have been attributed to the concentration of water vapor in the pores of Rh/MCM-41. The concentration of water vapor could promote the water-gas-shift-reaction generating some extra carbon dioxide and hydrogen, which in turn can induce side reactions and change the product selectivity. The extra hydrogen generated could facilitate the hydrogenation of a C2-oxygenated intermediate to ethanol, thus resulting in a higher ethanol selectivity over the Rh/MCM-41 catalyst as compared to the typical Rh/SiO2 catalyst; 24% and 8%, respectively. The catalysts have been characterized, before and after reaction, by N2-physisorption, X-ray photoelectron spectroscopy, X-ray diffraction, H2-chemisorption, transmission electron microscopy and temperature programmed reduction.\n"
     ]
    }
   ],
   "source": [
    "doi_1=r'10.3390/catal5041737'\n",
    "abstract=get_abstr(doi_1)"
   ]
  },
  {
   "cell_type": "markdown",
   "id": "cddceda8",
   "metadata": {},
   "source": [
    "Following cells represent possible queries for reactions\n",
    "\n",
    "- get list of all reactions for corresponding doi or from all publications if doi=None"
   ]
  },
  {
   "cell_type": "code",
   "execution_count": 6,
   "id": "3d3fdfae",
   "metadata": {
    "scrolled": true
   },
   "outputs": [
    {
     "name": "stdout",
     "output_type": "stream",
     "text": [
      "['hydrogenation']\n"
     ]
    }
   ],
   "source": [
    "list_reac_doi,_ = get_reaction(reac=None,doi=doi,include_all=False) #doi=None (if from all publications)\n",
    "reac_all = [*set([i[0].lower() for i in list_reac_doi])]\n",
    "print(reac_all)"
   ]
  },
  {
   "cell_type": "markdown",
   "id": "660cf5a2",
   "metadata": {},
   "source": [
    "- get the list of all publications in ontology where same reactions as in input publication were mentioned"
   ]
  },
  {
   "cell_type": "code",
   "execution_count": 7,
   "id": "f03d0f44",
   "metadata": {},
   "outputs": [
    {
     "name": "stdout",
     "output_type": "stream",
     "text": [
      "[['hydrogenation']]\n",
      "[]\n"
     ]
    }
   ],
   "source": [
    "list_reac_doi,_ = get_reaction(reac = None,doi = doi) #get list of all reactions mentioned in given doi (doi should be part of ontology)\n",
    "same_reac_doi = []\n",
    "for i in list_reac_doi:\n",
    "    reac_doi,_ = get_reaction(reac = i[0],doi = None)\n",
    "    for c in reac_doi:\n",
    "        if c not in same_reac_doi and c[0] != doi:\n",
    "            same_reac_doi.append(c)     #output example: [['10.1016/0304-5102(93)87113-m'],['10.1016/1381-1169(96)00243-9']]\n",
    "\n",
    "print(list_reac_doi)\n",
    "print(same_reac_doi)"
   ]
  },
  {
   "cell_type": "markdown",
   "id": "b247feec",
   "metadata": {},
   "source": [
    "- get the list of publications, that mention the specific reaction"
   ]
  },
  {
   "cell_type": "code",
   "execution_count": 8,
   "id": "4a66f63a",
   "metadata": {},
   "outputs": [
    {
     "name": "stdout",
     "output_type": "stream",
     "text": [
      "[['10.3390/catal5041737']]\n"
     ]
    }
   ],
   "source": [
    "reac=\"hydrogenation\"\n",
    "list_reac_doi,_ = get_reaction(reac=reac,doi=None)  #output example: [['10.1016/0304-5102(93)87113-m'],['10.1016/1381-1169(96)00243-9']]\n",
    "print(list_reac_doi)"
   ]
  },
  {
   "cell_type": "markdown",
   "id": "5bff719a",
   "metadata": {},
   "source": [
    "- get list of all publications which mention the specific reaction and reactions which have this specific reaction as part of their label"
   ]
  },
  {
   "cell_type": "code",
   "execution_count": 9,
   "id": "2f1a239e",
   "metadata": {},
   "outputs": [
    {
     "data": {
      "text/plain": [
       "None"
      ]
     },
     "metadata": {},
     "output_type": "display_data"
    }
   ],
   "source": [
    "reac=\"hydroformylation\" #specify a reaction\n",
    "\n",
    "list_reac_doi, df_reac = get_reaction(reac=\"hydroformylation\",doi=None, include_all=True)\n",
    "\n",
    "display(df_reac)"
   ]
  },
  {
   "cell_type": "markdown",
   "id": "584c0039",
   "metadata": {},
   "source": [
    "- get list of all entities mentioned in specific publication"
   ]
  },
  {
   "cell_type": "code",
   "execution_count": 10,
   "id": "83553328",
   "metadata": {},
   "outputs": [
    {
     "name": "stdout",
     "output_type": "stream",
     "text": [
      "['ethanol', 'carbon dioxide', 'hydrogen atom', 'rhodium atom', 'Rh supported on MCM-41 catalyst', 'Rh supported on SiO2 catalyst', 'Rh supported on MCM-41', 'silicon dioxide', 'hydrogenation', 'biomass', 'syngas', 'fuel-grade ethanol', 'MCM-41']\n"
     ]
    }
   ],
   "source": [
    "list_ent=get_entList(list_type='all',entity= None,doi=doi)\n",
    "print([i[1] for i in list_ent])"
   ]
  },
  {
   "cell_type": "markdown",
   "id": "8035c227",
   "metadata": {},
   "source": [
    "- get list of all extracted entities from publications in knowledge graph"
   ]
  },
  {
   "cell_type": "code",
   "execution_count": 11,
   "id": "b73264cd",
   "metadata": {},
   "outputs": [
    {
     "name": "stdout",
     "output_type": "stream",
     "text": [
      "['ethanol', 'carbon dioxide', 'hydrogen atom', 'rhodium atom', 'Rh supported on MCM-41 catalyst', 'Rh supported on SiO2 catalyst', 'Rh supported on MCM-41', 'silicon dioxide', 'hydrogenation', 'biomass', 'syngas', 'fuel-grade ethanol', 'MCM-41']\n"
     ]
    }
   ],
   "source": [
    "list_ent=[i[1] for i in get_entList(list_type='all',entity= None,doi=None)]\n",
    "list_distinct=[]\n",
    "for i in list_ent:\n",
    "    if i not in list_distinct:\n",
    "        list_distinct.append(i)\n",
    "print(list_distinct)"
   ]
  },
  {
   "cell_type": "code",
   "execution_count": 12,
   "id": "de76d0ba",
   "metadata": {},
   "outputs": [],
   "source": [
    "doi=None"
   ]
  },
  {
   "cell_type": "markdown",
   "id": "19bae051",
   "metadata": {},
   "source": [
    "With following code the retrieval if all reactants, products, support materials, catalysts is performed, which are mentioned in one specific publication or from all publication in extended ontology (if doi=None) \n",
    "with `get_synonyms` all possible synonyms of chemical entities will be retrieved.\\\n",
    "For example from \"rhodium atom \" class, synonyms such as \"Rh\", \"rhodium\", \"45Rh\" are retrieved"
   ]
  },
  {
   "cell_type": "code",
   "execution_count": 13,
   "id": "359ae7e6",
   "metadata": {
    "scrolled": true
   },
   "outputs": [
    {
     "name": "stdout",
     "output_type": "stream",
     "text": [
      "all queried synonyms of support:\n",
      "[['SiO2', silicic anhydride]]\n",
      "\n",
      "all queried synonyms of catalytic components:\n",
      "[[rhodium atom, 'Rh'], ['MCM-41']]\n",
      "\n",
      "all queried synonyms of reactants:\n",
      "[]\n",
      "\n",
      "all queried synonyms of products:\n",
      "['etanol', 'EtOH', carbon dioxide, carbon dioxide, hydrogen atom, 'H', fuel-grade ethanol]\n",
      "\n",
      "all queried catalyst entities:\n",
      "[[Rh supported on MCM-41 catalyst], [Rh supported on SiO2 catalyst], [Rh supported on MCM-41, 'Rh/MCM-41']]\n"
     ]
    }
   ],
   "source": [
    "sup_list=get_support(sup=None,doi=doi)\n",
    "_,sup_all=get_synonyms(sup_list)\n",
    "print('all queried synonyms of support:')\n",
    "print(list(sup_all.values()))\n",
    "\n",
    "cat_list=get_catalyst(cat=None,doi=doi,include_all=True)\n",
    "_,cat_all=get_synonyms(cat_list)\n",
    "print('\\nall queried synonyms of catalytic components:')\n",
    "print(list(cat_all.values()))\n",
    "\n",
    "reactant_list=get_entList('reactant',entity= None,doi=doi)\n",
    "reactant_all,_=get_synonyms(reactant_list)\n",
    "print('\\nall queried synonyms of reactants:')\n",
    "print(reactant_all)\n",
    "\n",
    "product_list=get_entList('product',entity= None,doi=doi)\n",
    "product_all,_=get_synonyms(product_list)\n",
    "print('\\nall queried synonyms of products:')\n",
    "print(product_all)\n",
    "\n",
    "cat_list_full=get_catalyst_full(doi = doi)\n",
    "_,cat_full_all=get_synonyms(cat_list_full)\n",
    "print('\\nall queried catalyst entities:')\n",
    "print(list(cat_full_all.values()))"
   ]
  },
  {
   "cell_type": "code",
   "execution_count": 14,
   "id": "459d7636",
   "metadata": {},
   "outputs": [
    {
     "name": "stdout",
     "output_type": "stream",
     "text": [
      "all queried synonyms of support:\n",
      "[['SiO2', silicic anhydride]]\n"
     ]
    }
   ],
   "source": [
    "sup_list=get_support(sup=None,doi=doi)\n",
    "_,sup_all=get_synonyms(sup_list)\n",
    "print('all queried synonyms of support:')\n",
    "print(list(sup_all.values()))"
   ]
  },
  {
   "cell_type": "code",
   "execution_count": 15,
   "id": "835734b5",
   "metadata": {},
   "outputs": [
    {
     "data": {
      "text/plain": [
       "[['10.3390/catal5041737',\n",
       "  'Synthesis of Ethanol from Syngas over Rh/MCM-41 Catalyst: Effect of Water on Product Selectivity']]"
      ]
     },
     "execution_count": 15,
     "metadata": {},
     "output_type": "execute_result"
    }
   ],
   "source": [
    "onto_pub_list"
   ]
  },
  {
   "cell_type": "code",
   "execution_count": 16,
   "id": "45a4f16d",
   "metadata": {},
   "outputs": [
    {
     "name": "stdout",
     "output_type": "stream",
     "text": [
      "[['silicon dioxide', 'Rh supported on SiO2 catalyst']]\n"
     ]
    }
   ],
   "source": [
    "sup_list=get_support(sup=None,doi=doi,only_doi= False)\n",
    "sup_cat=[]\n",
    "for i in range(len(sup_list)):\n",
    "    sup_cat.append([sup_list[i][1],sup_list[i][2]])\n",
    "print(sup_cat)"
   ]
  },
  {
   "cell_type": "markdown",
   "id": "5671fef0",
   "metadata": {},
   "source": [
    "Perform a search in scopus using collected information from ontology\\\n",
    "Queries have following structure: 'TITLE-ABS-KEY(\"reaction\"AND\"catalyst\"AND\"support material\"AND\"reactant\"AND\"product\")' in all possible combinations"
   ]
  },
  {
   "cell_type": "code",
   "execution_count": 17,
   "id": "073bc1a6",
   "metadata": {
    "scrolled": false
   },
   "outputs": [
    {
     "name": "stdout",
     "output_type": "stream",
     "text": [
      "processing publication #1\n",
      "Downloading results for query TITLE-ABS-KEY(\"hydrogenation\"AND\"Rh supported on MCM-41 catalyst\"AND\" \"AND\"etanol\")\n",
      "Downloading results for query TITLE-ABS-KEY(\"hydrogenation\"AND\"Rh supported on SiO2 catalyst\"AND\" \"AND\"etanol\")\n",
      "Downloading results for query TITLE-ABS-KEY(\"hydrogenation\"AND\"Rh supported on MCM-41\"AND\" \"AND\"etanol\")\n",
      "Downloading results for query TITLE-ABS-KEY(\"hydrogenation\"AND\"Rh/MCM-41\"AND\" \"AND\"etanol\")\n",
      "Downloading results for query TITLE-ABS-KEY(\"hydrogenation\"AND\"rhodium atom\"AND\"SiO2\"AND\" \"AND\"etanol\")\n",
      "Downloading results for query TITLE-ABS-KEY(\"hydrogenation\"AND\"rhodium atom\"AND\"silicic anhydride\"AND\" \"AND\"etanol\")\n",
      "Downloading results for query TITLE-ABS-KEY(\"hydrogenation\"AND\"Rh\"AND\"SiO2\"AND\" \"AND\"etanol\")\n",
      "Downloading results for query TITLE-ABS-KEY(\"hydrogenation\"AND\"Rh\"AND\"silicic anhydride\"AND\" \"AND\"etanol\")\n",
      "Downloading results for query TITLE-ABS-KEY(\"hydrogenation\"AND\"MCM-41\"AND\"SiO2\"AND\" \"AND\"etanol\")\n",
      "Downloading results for query TITLE-ABS-KEY(\"hydrogenation\"AND\"MCM-41\"AND\"silicic anhydride\"AND\" \"AND\"etanol\")\n",
      "Downloading results for query TITLE-ABS-KEY(\"hydrogenation\"AND\"Rh supported on MCM-41 catalyst\"AND\" \"AND\"EtOH\")\n",
      "Downloading results for query TITLE-ABS-KEY(\"hydrogenation\"AND\"Rh supported on SiO2 catalyst\"AND\" \"AND\"EtOH\")\n",
      "Downloading results for query TITLE-ABS-KEY(\"hydrogenation\"AND\"Rh supported on MCM-41\"AND\" \"AND\"EtOH\")\n",
      "Downloading results for query TITLE-ABS-KEY(\"hydrogenation\"AND\"Rh/MCM-41\"AND\" \"AND\"EtOH\")\n",
      "Downloading results for query TITLE-ABS-KEY(\"hydrogenation\"AND\"rhodium atom\"AND\"SiO2\"AND\" \"AND\"EtOH\")\n",
      "Downloading results for query TITLE-ABS-KEY(\"hydrogenation\"AND\"rhodium atom\"AND\"silicic anhydride\"AND\" \"AND\"EtOH\")\n",
      "Downloading results for query TITLE-ABS-KEY(\"hydrogenation\"AND\"Rh\"AND\"SiO2\"AND\" \"AND\"EtOH\")\n",
      "Downloading results for query TITLE-ABS-KEY(\"hydrogenation\"AND\"Rh\"AND\"silicic anhydride\"AND\" \"AND\"EtOH\")\n",
      "Downloading results for query TITLE-ABS-KEY(\"hydrogenation\"AND\"MCM-41\"AND\"SiO2\"AND\" \"AND\"EtOH\")\n",
      "Downloading results for query TITLE-ABS-KEY(\"hydrogenation\"AND\"MCM-41\"AND\"silicic anhydride\"AND\" \"AND\"EtOH\")\n",
      "Downloading results for query TITLE-ABS-KEY(\"hydrogenation\"AND\"Rh supported on MCM-41 catalyst\"AND\" \"AND\"carbon dioxide\")\n",
      "Downloading results for query TITLE-ABS-KEY(\"hydrogenation\"AND\"Rh supported on SiO2 catalyst\"AND\" \"AND\"carbon dioxide\")\n",
      "Downloading results for query TITLE-ABS-KEY(\"hydrogenation\"AND\"Rh supported on MCM-41\"AND\" \"AND\"carbon dioxide\")\n",
      "Downloading results for query TITLE-ABS-KEY(\"hydrogenation\"AND\"Rh/MCM-41\"AND\" \"AND\"carbon dioxide\")\n",
      "Downloading results for query TITLE-ABS-KEY(\"hydrogenation\"AND\"rhodium atom\"AND\"SiO2\"AND\" \"AND\"carbon dioxide\")\n",
      "Downloading results for query TITLE-ABS-KEY(\"hydrogenation\"AND\"rhodium atom\"AND\"silicic anhydride\"AND\" \"AND\"carbon dioxide\")\n",
      "Downloading results for query TITLE-ABS-KEY(\"hydrogenation\"AND\"Rh\"AND\"SiO2\"AND\" \"AND\"carbon dioxide\")\n",
      "Downloading results for query TITLE-ABS-KEY(\"hydrogenation\"AND\"Rh\"AND\"silicic anhydride\"AND\" \"AND\"carbon dioxide\")\n",
      "Downloading results for query TITLE-ABS-KEY(\"hydrogenation\"AND\"MCM-41\"AND\"SiO2\"AND\" \"AND\"carbon dioxide\")\n",
      "Downloading results for query TITLE-ABS-KEY(\"hydrogenation\"AND\"MCM-41\"AND\"silicic anhydride\"AND\" \"AND\"carbon dioxide\")\n",
      "Downloading results for query TITLE-ABS-KEY(\"hydrogenation\"AND\"Rh supported on MCM-41 catalyst\"AND\" \"AND\"hydrogen atom\")\n",
      "Downloading results for query TITLE-ABS-KEY(\"hydrogenation\"AND\"Rh supported on SiO2 catalyst\"AND\" \"AND\"hydrogen atom\")\n",
      "Downloading results for query TITLE-ABS-KEY(\"hydrogenation\"AND\"Rh supported on MCM-41\"AND\" \"AND\"hydrogen atom\")\n",
      "Downloading results for query TITLE-ABS-KEY(\"hydrogenation\"AND\"Rh/MCM-41\"AND\" \"AND\"hydrogen atom\")\n",
      "Downloading results for query TITLE-ABS-KEY(\"hydrogenation\"AND\"rhodium atom\"AND\"SiO2\"AND\" \"AND\"hydrogen atom\")\n",
      "Downloading results for query TITLE-ABS-KEY(\"hydrogenation\"AND\"rhodium atom\"AND\"silicic anhydride\"AND\" \"AND\"hydrogen atom\")\n",
      "Downloading results for query TITLE-ABS-KEY(\"hydrogenation\"AND\"Rh\"AND\"SiO2\"AND\" \"AND\"hydrogen atom\")\n",
      "Downloading results for query TITLE-ABS-KEY(\"hydrogenation\"AND\"Rh\"AND\"silicic anhydride\"AND\" \"AND\"hydrogen atom\")\n",
      "Downloading results for query TITLE-ABS-KEY(\"hydrogenation\"AND\"MCM-41\"AND\"SiO2\"AND\" \"AND\"hydrogen atom\")\n",
      "Downloading results for query TITLE-ABS-KEY(\"hydrogenation\"AND\"MCM-41\"AND\"silicic anhydride\"AND\" \"AND\"hydrogen atom\")\n",
      "Downloading results for query TITLE-ABS-KEY(\"hydrogenation\"AND\"Rh supported on MCM-41 catalyst\"AND\" \"AND\"H\")\n",
      "Downloading results for query TITLE-ABS-KEY(\"hydrogenation\"AND\"Rh supported on SiO2 catalyst\"AND\" \"AND\"H\")\n",
      "Downloading results for query TITLE-ABS-KEY(\"hydrogenation\"AND\"Rh supported on MCM-41\"AND\" \"AND\"H\")\n",
      "Downloading results for query TITLE-ABS-KEY(\"hydrogenation\"AND\"Rh/MCM-41\"AND\" \"AND\"H\")\n",
      "Downloading results for query TITLE-ABS-KEY(\"hydrogenation\"AND\"rhodium atom\"AND\"SiO2\"AND\" \"AND\"H\")\n",
      "Downloading results for query TITLE-ABS-KEY(\"hydrogenation\"AND\"rhodium atom\"AND\"silicic anhydride\"AND\" \"AND\"H\")\n",
      "Downloading results for query TITLE-ABS-KEY(\"hydrogenation\"AND\"Rh\"AND\"SiO2\"AND\" \"AND\"H\")\n",
      "Downloading results for query TITLE-ABS-KEY(\"hydrogenation\"AND\"Rh\"AND\"silicic anhydride\"AND\" \"AND\"H\")\n",
      "Downloading results for query TITLE-ABS-KEY(\"hydrogenation\"AND\"MCM-41\"AND\"SiO2\"AND\" \"AND\"H\")\n",
      "Downloading results for query TITLE-ABS-KEY(\"hydrogenation\"AND\"MCM-41\"AND\"silicic anhydride\"AND\" \"AND\"H\")\n",
      "Downloading results for query TITLE-ABS-KEY(\"hydrogenation\"AND\"Rh supported on MCM-41 catalyst\"AND\" \"AND\"fuel-grade ethanol\")\n",
      "Downloading results for query TITLE-ABS-KEY(\"hydrogenation\"AND\"Rh supported on SiO2 catalyst\"AND\" \"AND\"fuel-grade ethanol\")\n",
      "Downloading results for query TITLE-ABS-KEY(\"hydrogenation\"AND\"Rh supported on MCM-41\"AND\" \"AND\"fuel-grade ethanol\")\n",
      "Downloading results for query TITLE-ABS-KEY(\"hydrogenation\"AND\"Rh/MCM-41\"AND\" \"AND\"fuel-grade ethanol\")\n",
      "Downloading results for query TITLE-ABS-KEY(\"hydrogenation\"AND\"rhodium atom\"AND\"SiO2\"AND\" \"AND\"fuel-grade ethanol\")\n",
      "Downloading results for query TITLE-ABS-KEY(\"hydrogenation\"AND\"rhodium atom\"AND\"silicic anhydride\"AND\" \"AND\"fuel-grade ethanol\")\n",
      "Downloading results for query TITLE-ABS-KEY(\"hydrogenation\"AND\"Rh\"AND\"SiO2\"AND\" \"AND\"fuel-grade ethanol\")\n",
      "Downloading results for query TITLE-ABS-KEY(\"hydrogenation\"AND\"Rh\"AND\"silicic anhydride\"AND\" \"AND\"fuel-grade ethanol\")\n",
      "Downloading results for query TITLE-ABS-KEY(\"hydrogenation\"AND\"MCM-41\"AND\"SiO2\"AND\" \"AND\"fuel-grade ethanol\")\n",
      "Downloading results for query TITLE-ABS-KEY(\"hydrogenation\"AND\"MCM-41\"AND\"silicic anhydride\"AND\" \"AND\"fuel-grade ethanol\")\n"
     ]
    }
   ],
   "source": [
    "doi=None\n",
    "df_all=scopus_seach_process(doi, onto_pub_list)"
   ]
  },
  {
   "cell_type": "markdown",
   "id": "ab8ef1bd",
   "metadata": {},
   "source": [
    "All distinct results are saved in sheet 'distinct_eid'.\\\n",
    "Filter found publication according to the start and end date\\\n",
    "If no filtering nessesary define `start_date` as follows:\\\n",
    "`get_synonyms = None`"
   ]
  },
  {
   "cell_type": "code",
   "execution_count": 21,
   "id": "27ff9212",
   "metadata": {},
   "outputs": [],
   "source": [
    "start_date = '2019-01-01'\n",
    "end_date = '2024-08-01' \n",
    "\n",
    "distinct_df, filtered_df, filtered_df_doi, filtered_df_doi_new = filter_date(start_date,end_date, df_all,onto_pub_list)"
   ]
  },
  {
   "cell_type": "markdown",
   "id": "cb390145",
   "metadata": {},
   "source": [
    "save from scopus quieried publication information in Excel"
   ]
  },
  {
   "cell_type": "code",
   "execution_count": 22,
   "id": "5c7059d8",
   "metadata": {},
   "outputs": [],
   "source": [
    "output_path='./output/output_new_2024-08-01.xlsx' #define the output path\n",
    "\n",
    "save_in_excel(output_path, df_all, distinct_df, filtered_df, filtered_df_doi, filtered_df_doi_new )"
   ]
  },
  {
   "cell_type": "code",
   "execution_count": 23,
   "id": "55f96297",
   "metadata": {},
   "outputs": [
    {
     "name": "stdout",
     "output_type": "stream",
     "text": [
      "done\n"
     ]
    }
   ],
   "source": [
    "print(\"done\")"
   ]
  },
  {
   "cell_type": "code",
   "execution_count": null,
   "id": "b6d8f807",
   "metadata": {},
   "outputs": [],
   "source": []
  }
 ],
 "metadata": {
  "kernelspec": {
   "display_name": "Python 3 (ipykernel)",
   "language": "python",
   "name": "python3"
  },
  "language_info": {
   "codemirror_mode": {
    "name": "ipython",
    "version": 3
   },
   "file_extension": ".py",
   "mimetype": "text/x-python",
   "name": "python",
   "nbconvert_exporter": "python",
   "pygments_lexer": "ipython3",
   "version": "3.7.12"
  }
 },
 "nbformat": 4,
 "nbformat_minor": 5
}
