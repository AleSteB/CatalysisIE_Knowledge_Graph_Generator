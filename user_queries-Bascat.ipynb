{
 "cells": [
  {
   "cell_type": "code",
   "execution_count": 16,
   "id": "e5b463d6",
   "metadata": {
    "scrolled": true
   },
   "outputs": [],
   "source": [
    "import pandas as pd\n",
    "from queries import *"
   ]
  },
  {
   "cell_type": "code",
   "execution_count": 17,
   "id": "0eb69e9c",
   "metadata": {
    "scrolled": false
   },
   "outputs": [
    {
     "name": "stderr",
     "output_type": "stream",
     "text": [
      "* Owlready2 * Running HermiT...\n",
      "    java -Xmx2000M -cp C:\\Users\\smaxbehr\\AppData\\Local\\anaconda3\\envs\\testenv\\lib\\site-packages\\owlready2\\hermit;C:\\Users\\smaxbehr\\AppData\\Local\\anaconda3\\envs\\testenv\\lib\\site-packages\\owlready2\\hermit\\HermiT.jar org.semanticweb.HermiT.cli.CommandLine -c -O -D -I file:///C:/Users/smaxbehr/AppData/Local/Temp/tmp61bwr3lk\n",
      "* Owlready2 * HermiT took 419.2159776687622 seconds\n",
      "* Owlready * Equivalenting: material.AFM_0001028 obo.CHEBI_33250\n",
      "* Owlready * Equivalenting: obo.CHEBI_33250 material.AFM_0001028\n",
      "* Owlready * Equivalenting: material.AFM_0000077 obo.CHEBI_24870\n",
      "* Owlready * Equivalenting: obo.CHEBI_24870 material.AFM_0000077\n",
      "* Owlready * Equivalenting: material.AFM_0000161 obo.CHEBI_22563\n",
      "* Owlready * Equivalenting: obo.CHEBI_22563 material.AFM_0000161\n",
      "* Owlready * Equivalenting: material.AFM_0001097 obo.CHEBI_59999\n",
      "* Owlready * Equivalenting: obo.CHEBI_59999 material.AFM_0001097\n",
      "* Owlready * Reparenting obo.CHEBI_59999: {obo.CHEBI_24431} => {obo.CHEBI_24431, obo.CHMO_0000993}\n",
      "* Owlready * Reparenting material.AFM_0001097 (since equivalent): {obo.CHEBI_24431} => {obo.CHEBI_24431, obo.CHMO_0000993}\n",
      "* Owlready * Reparenting obo.CHEBI_16236: {obo.CHEBI_50584, obo.CHEBI_23982, obo.CHEBI_15734, obo.CHEBI_134179} => {obo.CHEBI_50584, obo.CHEBI_23982, obo.CHEBI_134179}\n",
      "* Owlready * Reparenting obo.CHEBI_50047: {obo.CHEBI_50860, obo.CHEBI_35352} => {obo.CHEBI_35352}\n",
      "* Owlready * Reparenting obo.CHEBI_23367: {obo.CHEBI_24431, material.AFM_0000275, obo.BFO_0000040} => {obo.CHEBI_24431, material.AFM_0000275}\n"
     ]
    },
    {
     "name": "stdout",
     "output_type": "stream",
     "text": [
      "The afo_new_bascat_50pubs-2024-09-20 ontology consists of following publications:\n"
     ]
    },
    {
     "name": "stderr",
     "output_type": "stream",
     "text": [
      "* Owlready * Reparenting obo.CHEBI_36914: {material.AFM_0000077, obo.CHEBI_24835, obo.CHEBI_24870} => {material.AFM_0000077, obo.CHEBI_24835}\n",
      "* Owlready * Reparenting obo.CHEBI_25585: {obo.CHEBI_33250, material.AFM_0001028} => {material.AFM_0001028}\n",
      "* Owlready * Reparenting obo.CHEBI_33521: {obo.CHEBI_33250, material.AFM_0001028} => {material.AFM_0001028}\n",
      "* Owlready * Reparenting obo.CHEBI_137980: {obo.CHEBI_33250, material.AFM_0001028} => {material.AFM_0001028}\n",
      "* Owlready * Reparenting obo.CHEBI_33559: {obo.CHEBI_33250, material.AFM_0001028} => {material.AFM_0001028}\n",
      "* Owlready * Reparenting obo.CHEBI_33318: {obo.CHEBI_33250, material.AFM_0001028} => {material.AFM_0001028}\n",
      "* Owlready * Reparenting obo.CHEBI_33273: {obo.CHEBI_36358, material.AFM_0000161, obo.CHEBI_22563} => {obo.CHEBI_36358, material.AFM_0000161}\n",
      "* Owlready * Reparenting obo.CHEBI_33561: {obo.CHEBI_27081, obo.CHEBI_33521} => {obo.CHEBI_27081}\n",
      "* Owlready * Reparenting obo.CHEBI_24834: {obo.CHEBI_36914, obo.CHEBI_22563, material.AFM_0000161} => {obo.CHEBI_36914, material.AFM_0000161}\n",
      "* Owlready * Reparenting obo.CHEBI_25367: {obo.CHEBI_36357, obo.CHEBI_23367} => {obo.CHEBI_36357}\n",
      "* Owlready * Reparenting obo.CHEBI_36358: {material.AFM_0000077, obo.CHEBI_36357, obo.CHEBI_24870} => {material.AFM_0000077, obo.CHEBI_36357}\n",
      "* Owlready * Reparenting obo.CHEBI_25699: {material.AFM_0000077, obo.CHEBI_50860, obo.CHEBI_24870} => {material.AFM_0000077, obo.CHEBI_50860}\n",
      "* Owlready * Reparenting obo.CHEBI_22563: {material.AFM_0000077, obo.CHEBI_24870} => {material.AFM_0000077}\n",
      "* Owlready * Reparenting material.AFM_0000161 (since equivalent): {material.AFM_0000077, obo.CHEBI_24870} => {material.AFM_0000077}\n",
      "* Owlready * Reparenting obo.CHEBI_25696: {material.AFM_0000161, obo.CHEBI_22563, obo.CHEBI_25699} => {material.AFM_0000161, obo.CHEBI_25699}\n",
      "* Owlready * Reparenting obo.CHEBI_33744: {obo.CHEBI_33497, obo.CHEBI_33676} => {obo.CHEBI_33676}\n",
      "* Owlready * Reparenting obo.CHEBI_33768: {obo.CHEBI_33497, obo.CHEBI_33676} => {obo.CHEBI_33676}\n",
      "* Owlready * Reparenting obo.CHEBI_33745: {obo.CHEBI_33497, obo.CHEBI_33676} => {obo.CHEBI_33676}\n",
      "* Owlready * Reparenting obo.CHEBI_33352: {obo.CHEBI_27081, obo.CHEBI_33561} => {obo.CHEBI_33561}\n",
      "* Owlready * Reparenting obo.CHEBI_33362: {obo.CHEBI_27081, obo.CHEBI_33561} => {obo.CHEBI_33561}\n",
      "* Owlready * Reparenting obo.CHEBI_33358: {obo.CHEBI_27081, obo.CHEBI_33561} => {obo.CHEBI_33561}\n",
      "* Owlready * Reparenting obo.CHEBI_33350: {obo.CHEBI_27081, obo.CHEBI_33561} => {obo.CHEBI_33561}\n",
      "* Owlready * Reparenting obo.CHEBI_33356: {obo.CHEBI_27081, obo.CHEBI_33561} => {obo.CHEBI_33561}\n",
      "* Owlready * Reparenting obo.CHEBI_33366: {obo.CHEBI_27081, obo.CHEBI_33561} => {obo.CHEBI_33561}\n",
      "* Owlready * Reparenting obo.CHEBI_33345: {obo.CHEBI_27081, obo.CHEBI_33561} => {obo.CHEBI_33561}\n",
      "* Owlready * Reparenting obo.RO_0002327: {obo.RO_0002215, owl.ObjectProperty} => {obo.RO_0002215}\n",
      "* Owlready * Reparenting property.AFX_0002723: {owl.TransitiveProperty, obo.RO_0002609, owl.ObjectProperty} => {owl.TransitiveProperty, obo.RO_0002609}\n",
      "* Owlready * Reparenting obo.RO_0002087: {obo.BFO_0000062, owl.ObjectProperty} => {obo.BFO_0000062}\n",
      "* Owlready * Reparenting obo.BFO_0000132: {obo.RO_0002222, owl.TransitiveProperty, obo.BFO_0000050, owl.ObjectProperty} => {obo.RO_0002222, obo.BFO_0000050}\n",
      "* Owlready * Reparenting obo.BFO_0000117: {obo.RO_0002222, owl.TransitiveProperty, obo.BFO_0000051, owl.ObjectProperty} => {obo.RO_0002222, obo.BFO_0000051}\n",
      "* Owlready * Reparenting obo.RO_0002223: {obo.RO_0002222, obo.BFO_0000050, owl.ObjectProperty} => {obo.RO_0002222, obo.BFO_0000050}\n",
      "* Owlready * Reparenting property.AFX_0000554: {property.AFX_0000354, owl.ObjectProperty} => {property.AFX_0000354}\n",
      "* Owlready * Reparenting obo.BFO_0000062: {obo.RO_0002086, owl.TransitiveProperty, owl.ObjectProperty} => {obo.RO_0002086}\n",
      "* Owlready * Reparenting property.AFX_0001049: {obo.RO_0001025, owl.ObjectProperty} => {obo.RO_0001025}\n",
      "* Owlready * Reparenting property.AFX_0002735: {property.AFX_0000353, owl.ObjectProperty} => {property.AFX_0000353}\n",
      "* Owlready * Reparenting property.AFX_0002833: {property.AFX_0002858, owl.TransitiveProperty, owl.ObjectProperty} => {owl.TransitiveProperty, property.AFX_0002858}\n",
      "* Owlready * Reparenting property.AFX_0002875: {obo.RO_0000056, owl.ObjectProperty} => {obo.RO_0000056}\n",
      "* Owlready * Reparenting obo.RO_0002508: {obo.RO_0002566, owl.ObjectProperty} => {obo.RO_0002566, obo.BFO_0000051}\n",
      "* Owlready * Reparenting obo.RO_0000080: {obo.RO_0000052, owl.ObjectProperty} => {obo.RO_0000052}\n",
      "* Owlready * Reparenting core.narrowMatch: {core.mappingRelation, core.narrower, owl.ObjectProperty} => {core.mappingRelation, core.narrower}\n",
      "* Owlready * Reparenting obo.RO_0002221: {obo.RO_0002220, owl.ObjectProperty} => {obo.RO_0002220}\n",
      "* Owlready * Reparenting property.AFX_0002800: {property.AFX_0002846, owl.TransitiveProperty, owl.ObjectProperty} => {property.AFX_0002846}\n",
      "* Owlready * Reparenting obo.RO_0002350: {owl.AsymmetricProperty, property.AFX_0002846, owl.IrreflexiveProperty, owl.ObjectProperty} => {owl.AsymmetricProperty, property.AFX_0002846, owl.IrreflexiveProperty}\n",
      "* Owlready * Reparenting obo.RO_0002418: {owl.TransitiveProperty, obo.RO_0002501, owl.ObjectProperty} => {obo.RO_0002501}\n",
      "* Owlready * Reparenting property.AFX_0002819: {obo.IAO_0000219, owl.ObjectProperty} => {obo.IAO_0000219}\n",
      "* Owlready * Reparenting property.AFX_0000546: {property.AFX_0000395, owl.ObjectProperty} => {property.AFX_0000395}\n",
      "* Owlready * Reparenting property.AFX_0000197: {obo.RO_0000057, owl.ObjectProperty} => {obo.RO_0000057}\n",
      "* Owlready * Reparenting property.AFX_0000399: {obo.RO_0000057, owl.ObjectProperty} => {obo.RO_0000057}\n",
      "* Owlready * Reparenting obo.RO_0002351: {owl.AsymmetricProperty, property.AFX_0002793, owl.IrreflexiveProperty, owl.ObjectProperty} => {owl.AsymmetricProperty, property.AFX_0002793, owl.IrreflexiveProperty}\n",
      "* Owlready * Reparenting property.AFX_0000972: {property.AFX_0002793, owl.TransitiveProperty, owl.ObjectProperty} => {property.AFX_0002793}\n",
      "* Owlready * Reparenting obo.RO_0002527: {obo.RO_0002514, owl.SymmetricProperty, owl.ObjectProperty} => {obo.RO_0002514, owl.SymmetricProperty}\n",
      "* Owlready * (NB: only changes on entities loaded in Python are shown, other changes are done but not listed)\n"
     ]
    },
    {
     "data": {
      "text/html": [
       "<div>\n",
       "<style scoped>\n",
       "    .dataframe tbody tr th:only-of-type {\n",
       "        vertical-align: middle;\n",
       "    }\n",
       "\n",
       "    .dataframe tbody tr th {\n",
       "        vertical-align: top;\n",
       "    }\n",
       "\n",
       "    .dataframe thead th {\n",
       "        text-align: right;\n",
       "    }\n",
       "</style>\n",
       "<table border=\"1\" class=\"dataframe\">\n",
       "  <thead>\n",
       "    <tr style=\"text-align: right;\">\n",
       "      <th></th>\n",
       "      <th>DOI</th>\n",
       "      <th>Title</th>\n",
       "    </tr>\n",
       "  </thead>\n",
       "  <tbody>\n",
       "    <tr>\n",
       "      <th>0</th>\n",
       "      <td>10.1016/j.apcata.2024.119636</td>\n",
       "      <td>Using CoCu2Ga/SiO2 to identify stability-issues in ethanol-selective Co-Cu alloyed catalysts in carbon monoxide hydrogenation</td>\n",
       "    </tr>\n",
       "    <tr>\n",
       "      <th>1</th>\n",
       "      <td>10.1016/j.cej.2024.152502</td>\n",
       "      <td>The active pair of Coδ+/Co0 tailored by nickel and CaTiO3 with perovskite phase for higher alcohols synthesis from syngas</td>\n",
       "    </tr>\n",
       "    <tr>\n",
       "      <th>2</th>\n",
       "      <td>10.1038/s41467-024-50215-1</td>\n",
       "      <td>Active learning streamlines development of high performance catalysts for higher alcohol synthesis</td>\n",
       "    </tr>\n",
       "    <tr>\n",
       "      <th>3</th>\n",
       "      <td>10.1002/anie.202401568</td>\n",
       "      <td>Enhanced Proximity of Rh1,2-Rhn Ensembles Encaged in UiO-67 Boosting Catalytic Conversion of Syngas to Oxygenates</td>\n",
       "    </tr>\n",
       "    <tr>\n",
       "      <th>4</th>\n",
       "      <td>10.1007/s10562-023-04565-y</td>\n",
       "      <td>A First Principles Mechanistic Study of Higher Alcohol Synthesis from Syngas on a Stepped Rhodium Surface</td>\n",
       "    </tr>\n",
       "    <tr>\n",
       "      <th>5</th>\n",
       "      <td>10.1016/j.apcatb.2023.122840</td>\n",
       "      <td>Hydrophobic dual metal silicate nanotubes for higher alcohol synthesis</td>\n",
       "    </tr>\n",
       "    <tr>\n",
       "      <th>6</th>\n",
       "      <td>10.31635/ccschem.022.202201930</td>\n",
       "      <td>Construction of Synergistic Co and Cu Diatomic Sites for Enhanced Higher Alcohol Synthesis</td>\n",
       "    </tr>\n",
       "    <tr>\n",
       "      <th>7</th>\n",
       "      <td>10.1016/j.fuel.2023.129772</td>\n",
       "      <td>Influence of chalcopyrite removal and mechanical exfoliation on the performance of molybdenite catalysts supported on activated bauxite for alcohol synthesis by Fischer-Tropsch process</td>\n",
       "    </tr>\n",
       "    <tr>\n",
       "      <th>8</th>\n",
       "      <td>10.3390/catal13020237</td>\n",
       "      <td>A Simple Strategy Stabilizing for a CuFe/SiO2 Catalyst and Boosting Higher Alcohols’ Synthesis from Syngas</td>\n",
       "    </tr>\n",
       "    <tr>\n",
       "      <th>9</th>\n",
       "      <td>10.1016/j.cej.2023.142359</td>\n",
       "      <td>CoMn catalysts derived from partial decomposed layered CoMn-MOF materials for higher alcohol synthesis from syngas</td>\n",
       "    </tr>\n",
       "    <tr>\n",
       "      <th>10</th>\n",
       "      <td>10.1021/acscatal.3c02534</td>\n",
       "      <td>ZrO2-Promoted Cu-Co, Cu-Fe and Co-Fe Catalysts for Higher Alcohol Synthesis</td>\n",
       "    </tr>\n",
       "    <tr>\n",
       "      <th>11</th>\n",
       "      <td>10.1021/acscatal.3c01577</td>\n",
       "      <td>Efficient Conversion of Syngas into Ethanol by Tandem Catalysis</td>\n",
       "    </tr>\n",
       "    <tr>\n",
       "      <th>12</th>\n",
       "      <td>10.1038/s41467-023-42325-z</td>\n",
       "      <td>Edge-rich molybdenum disulfide tailors carbon-chain growth for selective hydrogenation of carbon monoxide to higher alcohols</td>\n",
       "    </tr>\n",
       "    <tr>\n",
       "      <th>13</th>\n",
       "      <td>10.1021/acscatal.3c05351</td>\n",
       "      <td>Promotion of Anatase/Rutile Junction to Direct Conversion of Syngas to Ethanol on the Rh/TiO2 Catalysts</td>\n",
       "    </tr>\n",
       "    <tr>\n",
       "      <th>14</th>\n",
       "      <td>10.1016/j.fuel.2022.126308</td>\n",
       "      <td>CO hydrogenation to ethanol and higher alcohols over ultrathin CuCoAl nanosheets derived from LDH precursor</td>\n",
       "    </tr>\n",
       "    <tr>\n",
       "      <th>15</th>\n",
       "      <td>10.1016/j.checat.2023.100584</td>\n",
       "      <td>Precisely synergistic synthesis of higher alcohols from syngas over iron carbides</td>\n",
       "    </tr>\n",
       "    <tr>\n",
       "      <th>16</th>\n",
       "      <td>10.1016/j.poly.2022.116031</td>\n",
       "      <td>Competing mechanisms of CO hydrogenation to ethanol over TM/Mo6S8 catalysts</td>\n",
       "    </tr>\n",
       "    <tr>\n",
       "      <th>17</th>\n",
       "      <td>10.1021/acs.energyfuels.4c00590</td>\n",
       "      <td>Higher Alcohol and Oxygenate Synthesis from Synthesis Gas and Ethanol over Supported K-(Co)MoS2 Catalysts: Effect of Novel Ni-Containing Carbon Nanofiber Supports Formed as Byproducts from Methane Decomposition</td>\n",
       "    </tr>\n",
       "    <tr>\n",
       "      <th>18</th>\n",
       "      <td>10.1016/j.fuel.2022.126770</td>\n",
       "      <td>Synergetic effect of Ce/Zr for ethanol synthesis from syngas over Rh-based catalyst</td>\n",
       "    </tr>\n",
       "    <tr>\n",
       "      <th>19</th>\n",
       "      <td>10.1016/j.mcat.2024.114124</td>\n",
       "      <td>Ratio screening of high performance Rh-Ni catalyst for ethanol synthesis from syngas: An integration of theoretical and experimental investigation</td>\n",
       "    </tr>\n",
       "    <tr>\n",
       "      <th>20</th>\n",
       "      <td>10.1016/j.fuel.2021.122981</td>\n",
       "      <td>Direct conversion of syngas to ethanol over Rh-based and Cu-based tandem catalyst: Effect of Cu crystal plane</td>\n",
       "    </tr>\n",
       "    <tr>\n",
       "      <th>21</th>\n",
       "      <td>10.1021/acscatal.3c03488</td>\n",
       "      <td>Oxygen Vacancy over CoMnOx Catalysts Boosts Selective Ethanol Production in the Higher Alcohol Synthesis from Syngas</td>\n",
       "    </tr>\n",
       "    <tr>\n",
       "      <th>22</th>\n",
       "      <td>10.1021/acsanm.3c00109</td>\n",
       "      <td>Active Site Synergy of Rh and Co Derived from ZrO2-Supported LaRhxCo1-xO3 Perovskite Nanostructures for the Direct Synthesis of Ethanol from Syngas</td>\n",
       "    </tr>\n",
       "    <tr>\n",
       "      <th>23</th>\n",
       "      <td>10.1016/j.fuel.2023.128506</td>\n",
       "      <td>Oxygen vacancy regulation of microenviroment of Cu/ZnO catalyst for syngas conversion</td>\n",
       "    </tr>\n",
       "    <tr>\n",
       "      <th>24</th>\n",
       "      <td>10.1021/acs.jpcc.3c01827</td>\n",
       "      <td>CuZnAl@S-1 Catalyst for the Synthesis of Higher Alcohols by CO Hydrogenation</td>\n",
       "    </tr>\n",
       "    <tr>\n",
       "      <th>25</th>\n",
       "      <td>10.1021/acscatal.2c02103</td>\n",
       "      <td>Nature and Dynamic Evolution of Rh Single Atoms Trapped by CeO2in CO Hydrogenation</td>\n",
       "    </tr>\n",
       "    <tr>\n",
       "      <th>26</th>\n",
       "      <td>10.1016/j.fuproc.2022.107510</td>\n",
       "      <td>Effect of ZnO morphology on the performance of CuZnAl slurry catalysts for the ethanol synthesis from syngas</td>\n",
       "    </tr>\n",
       "    <tr>\n",
       "      <th>27</th>\n",
       "      <td>10.1002/cctc.202201104</td>\n",
       "      <td>Silica-supported Catalyst System Rh−Mn−Ir−Li−Ti in Syngas to Ethanol Reaction: Reactivity Trends and Performance Optimization</td>\n",
       "    </tr>\n",
       "    <tr>\n",
       "      <th>28</th>\n",
       "      <td>10.1016/j.gee.2021.06.001</td>\n",
       "      <td>The newly-assisted catalytic mechanism of surface hydroxyl species performed as the promoter in syngas-to-C2 species on the Cu-based bimetallic catalysts</td>\n",
       "    </tr>\n",
       "    <tr>\n",
       "      <th>29</th>\n",
       "      <td>10.1016/j.apsusc.2023.157330</td>\n",
       "      <td>Constructing the active pairs of Co0-Co2+ via surface solid reaction on TiO2 with the additives of La and Al for higher alcohols synthesis</td>\n",
       "    </tr>\n",
       "    <tr>\n",
       "      <th>30</th>\n",
       "      <td>10.1021/acscatal.3c02649</td>\n",
       "      <td>Regulating Oxygen Vacancies for Enhanced Higher Oxygenate Synthesis via Syngas</td>\n",
       "    </tr>\n",
       "    <tr>\n",
       "      <th>31</th>\n",
       "      <td>10.1016/j.fuel.2024.130915</td>\n",
       "      <td>Ordered mesoporous Mg-modified silica to confine MoS2 slabs with high sulfidation and dispersion for higher alcohol synthesis via CO hydrogenation</td>\n",
       "    </tr>\n",
       "    <tr>\n",
       "      <th>32</th>\n",
       "      <td>10.1039/d4ta01179a</td>\n",
       "      <td>Co-Co2C catalysts supported on carbon-coated ordered mesoporous silica with promoted CO insertion and C-C coupling for higher alcohol synthesis from syngas</td>\n",
       "    </tr>\n",
       "    <tr>\n",
       "      <th>33</th>\n",
       "      <td>10.1016/j.cej.2024.148751</td>\n",
       "      <td>Lignin carbon-initiated Ni/K/Mo2C catalyst for efficient synthesis of higher alcohols from syngas</td>\n",
       "    </tr>\n",
       "    <tr>\n",
       "      <th>34</th>\n",
       "      <td>10.1016/j.fuel.2023.130595</td>\n",
       "      <td>Investigation of the role of oxygen vacancies in CuZn catalysts for the formation of higher alcohols from syngas</td>\n",
       "    </tr>\n",
       "    <tr>\n",
       "      <th>35</th>\n",
       "      <td>10.1016/j.apcatb.2021.120739</td>\n",
       "      <td>Design of efficient ZnO/ZrO2 modified CuCoAl catalysts for boosting higher alcohol synthesis in syngas conversion</td>\n",
       "    </tr>\n",
       "    <tr>\n",
       "      <th>36</th>\n",
       "      <td>10.1016/j.ijhydene.2023.12.292</td>\n",
       "      <td>Tuning CuO crystallite size by different solvents for higher alcohols synthesis from syngas over CuZnAl catalyst</td>\n",
       "    </tr>\n",
       "    <tr>\n",
       "      <th>37</th>\n",
       "      <td>10.1016/j.apcata.2024.119822</td>\n",
       "      <td>Impact of Cu complex anions on CuZnAl intercalated hydrotalcite-like catalysts for low-carbon alcohols synthesis from syngas</td>\n",
       "    </tr>\n",
       "    <tr>\n",
       "      <th>38</th>\n",
       "      <td>10.1021/acscatal.3c00363</td>\n",
       "      <td>Maximizing the Interface of Dual Active Sites to Enhance Higher Oxygenate Synthesis from Syngas with High Activity</td>\n",
       "    </tr>\n",
       "    <tr>\n",
       "      <th>39</th>\n",
       "      <td>10.1021/ie502425d</td>\n",
       "      <td>Direct conversion of syngas-to-hydrocarbons over higher alcohols synthesis catalysts mixed with HZSM-5</td>\n",
       "    </tr>\n",
       "    <tr>\n",
       "      <th>40</th>\n",
       "      <td>10.1016/j.fuel.2023.127500</td>\n",
       "      <td>Higher alcohols synthesis via Fischer–Tropsch reaction at hcp-Co@Co2C interface</td>\n",
       "    </tr>\n",
       "    <tr>\n",
       "      <th>41</th>\n",
       "      <td>10.1016/j.fuproc.2022.107600</td>\n",
       "      <td>Electronic control of catalytic activity of ZnO for higher alcohols synthesis via tailoring Fermi level</td>\n",
       "    </tr>\n",
       "    <tr>\n",
       "      <th>42</th>\n",
       "      <td>10.1021/acs.iecr.3c02379</td>\n",
       "      <td>LaAlO3-Tailored Active Pairs of Co0-Coδ+ Supported on ZrO2 for Higher Alcohol Synthesis from Syngas</td>\n",
       "    </tr>\n",
       "    <tr>\n",
       "      <th>43</th>\n",
       "      <td>10.1016/j.checat.2024.101010</td>\n",
       "      <td>Defective zirconia promotes monometallic iron catalysts for higher alcohol synthesis</td>\n",
       "    </tr>\n",
       "    <tr>\n",
       "      <th>44</th>\n",
       "      <td>10.1016/j.apsusc.2021.151846</td>\n",
       "      <td>Oxygen vacancies boosted Co-Co2C catalysts for higher alcohols synthesis from syngas</td>\n",
       "    </tr>\n",
       "    <tr>\n",
       "      <th>45</th>\n",
       "      <td>10.1016/j.ijhydene.2024.05.362</td>\n",
       "      <td>Novel designing concept of CoCu catalyst with limited methanol formation in higher alcohol synthesis from syngas</td>\n",
       "    </tr>\n",
       "    <tr>\n",
       "      <th>46</th>\n",
       "      <td>10.1016/j.mcat.2023.113421</td>\n",
       "      <td>2D h-BN material covered Cu confined catalysts: unraveling the function of spatial dimension in tuning activity and selectivity of syngas-to-C2 oxygenates</td>\n",
       "    </tr>\n",
       "    <tr>\n",
       "      <th>47</th>\n",
       "      <td>10.1021/acscatal.3c05579</td>\n",
       "      <td>Zinc Blende CoO as an Efficient CO Nondissociative Adsorption Site for Direct Synthesis of Higher Alcohols from Syngas</td>\n",
       "    </tr>\n",
       "    <tr>\n",
       "      <th>48</th>\n",
       "      <td>10.1016/j.mcat.2023.113270</td>\n",
       "      <td>Cerium doped Co/AC catalysts for higher alcohols synthesis from syngas</td>\n",
       "    </tr>\n",
       "  </tbody>\n",
       "</table>\n",
       "</div>"
      ],
      "text/plain": [
       "                                DOI  \\\n",
       "0      10.1016/j.apcata.2024.119636   \n",
       "1         10.1016/j.cej.2024.152502   \n",
       "2        10.1038/s41467-024-50215-1   \n",
       "3            10.1002/anie.202401568   \n",
       "4        10.1007/s10562-023-04565-y   \n",
       "5      10.1016/j.apcatb.2023.122840   \n",
       "6    10.31635/ccschem.022.202201930   \n",
       "7        10.1016/j.fuel.2023.129772   \n",
       "8             10.3390/catal13020237   \n",
       "9         10.1016/j.cej.2023.142359   \n",
       "10         10.1021/acscatal.3c02534   \n",
       "11         10.1021/acscatal.3c01577   \n",
       "12       10.1038/s41467-023-42325-z   \n",
       "13         10.1021/acscatal.3c05351   \n",
       "14       10.1016/j.fuel.2022.126308   \n",
       "15     10.1016/j.checat.2023.100584   \n",
       "16       10.1016/j.poly.2022.116031   \n",
       "17  10.1021/acs.energyfuels.4c00590   \n",
       "18       10.1016/j.fuel.2022.126770   \n",
       "19       10.1016/j.mcat.2024.114124   \n",
       "20       10.1016/j.fuel.2021.122981   \n",
       "21         10.1021/acscatal.3c03488   \n",
       "22           10.1021/acsanm.3c00109   \n",
       "23       10.1016/j.fuel.2023.128506   \n",
       "24         10.1021/acs.jpcc.3c01827   \n",
       "25         10.1021/acscatal.2c02103   \n",
       "26     10.1016/j.fuproc.2022.107510   \n",
       "27           10.1002/cctc.202201104   \n",
       "28        10.1016/j.gee.2021.06.001   \n",
       "29     10.1016/j.apsusc.2023.157330   \n",
       "30         10.1021/acscatal.3c02649   \n",
       "31       10.1016/j.fuel.2024.130915   \n",
       "32               10.1039/d4ta01179a   \n",
       "33        10.1016/j.cej.2024.148751   \n",
       "34       10.1016/j.fuel.2023.130595   \n",
       "35     10.1016/j.apcatb.2021.120739   \n",
       "36   10.1016/j.ijhydene.2023.12.292   \n",
       "37     10.1016/j.apcata.2024.119822   \n",
       "38         10.1021/acscatal.3c00363   \n",
       "39                10.1021/ie502425d   \n",
       "40       10.1016/j.fuel.2023.127500   \n",
       "41     10.1016/j.fuproc.2022.107600   \n",
       "42         10.1021/acs.iecr.3c02379   \n",
       "43     10.1016/j.checat.2024.101010   \n",
       "44     10.1016/j.apsusc.2021.151846   \n",
       "45   10.1016/j.ijhydene.2024.05.362   \n",
       "46       10.1016/j.mcat.2023.113421   \n",
       "47         10.1021/acscatal.3c05579   \n",
       "48       10.1016/j.mcat.2023.113270   \n",
       "\n",
       "                                                                                                                                                                                                                 Title  \n",
       "0                                                                                        Using CoCu2Ga/SiO2 to identify stability-issues in ethanol-selective Co-Cu alloyed catalysts in carbon monoxide hydrogenation  \n",
       "1                                                                                            The active pair of Coδ+/Co0 tailored by nickel and CaTiO3 with perovskite phase for higher alcohols synthesis from syngas  \n",
       "2                                                                                                                   Active learning streamlines development of high performance catalysts for higher alcohol synthesis  \n",
       "3                                                                                                    Enhanced Proximity of Rh1,2-Rhn Ensembles Encaged in UiO-67 Boosting Catalytic Conversion of Syngas to Oxygenates  \n",
       "4                                                                                                            A First Principles Mechanistic Study of Higher Alcohol Synthesis from Syngas on a Stepped Rhodium Surface  \n",
       "5                                                                                                                                               Hydrophobic dual metal silicate nanotubes for higher alcohol synthesis  \n",
       "6                                                                                                                           Construction of Synergistic Co and Cu Diatomic Sites for Enhanced Higher Alcohol Synthesis  \n",
       "7                             Influence of chalcopyrite removal and mechanical exfoliation on the performance of molybdenite catalysts supported on activated bauxite for alcohol synthesis by Fischer-Tropsch process  \n",
       "8                                                                                                           A Simple Strategy Stabilizing for a CuFe/SiO2 Catalyst and Boosting Higher Alcohols’ Synthesis from Syngas  \n",
       "9                                                                                                   CoMn catalysts derived from partial decomposed layered CoMn-MOF materials for higher alcohol synthesis from syngas  \n",
       "10                                                                                                                                         ZrO2-Promoted Cu-Co, Cu-Fe and Co-Fe Catalysts for Higher Alcohol Synthesis  \n",
       "11                                                                                                                                                     Efficient Conversion of Syngas into Ethanol by Tandem Catalysis  \n",
       "12                                                                                        Edge-rich molybdenum disulfide tailors carbon-chain growth for selective hydrogenation of carbon monoxide to higher alcohols  \n",
       "13                                                                                                             Promotion of Anatase/Rutile Junction to Direct Conversion of Syngas to Ethanol on the Rh/TiO2 Catalysts  \n",
       "14                                                                                                         CO hydrogenation to ethanol and higher alcohols over ultrathin CuCoAl nanosheets derived from LDH precursor  \n",
       "15                                                                                                                                   Precisely synergistic synthesis of higher alcohols from syngas over iron carbides  \n",
       "16                                                                                                                                         Competing mechanisms of CO hydrogenation to ethanol over TM/Mo6S8 catalysts  \n",
       "17  Higher Alcohol and Oxygenate Synthesis from Synthesis Gas and Ethanol over Supported K-(Co)MoS2 Catalysts: Effect of Novel Ni-Containing Carbon Nanofiber Supports Formed as Byproducts from Methane Decomposition  \n",
       "18                                                                                                                                 Synergetic effect of Ce/Zr for ethanol synthesis from syngas over Rh-based catalyst  \n",
       "19                                                                  Ratio screening of high performance Rh-Ni catalyst for ethanol synthesis from syngas: An integration of theoretical and experimental investigation  \n",
       "20                                                                                                       Direct conversion of syngas to ethanol over Rh-based and Cu-based tandem catalyst: Effect of Cu crystal plane  \n",
       "21                                                                                                Oxygen Vacancy over CoMnOx Catalysts Boosts Selective Ethanol Production in the Higher Alcohol Synthesis from Syngas  \n",
       "22                                                                 Active Site Synergy of Rh and Co Derived from ZrO2-Supported LaRhxCo1-xO3 Perovskite Nanostructures for the Direct Synthesis of Ethanol from Syngas  \n",
       "23                                                                                                                               Oxygen vacancy regulation of microenviroment of Cu/ZnO catalyst for syngas conversion  \n",
       "24                                                                                                                                        CuZnAl@S-1 Catalyst for the Synthesis of Higher Alcohols by CO Hydrogenation  \n",
       "25                                                                                                                                  Nature and Dynamic Evolution of Rh Single Atoms Trapped by CeO2in CO Hydrogenation  \n",
       "26                                                                                                        Effect of ZnO morphology on the performance of CuZnAl slurry catalysts for the ethanol synthesis from syngas  \n",
       "27                                                                                       Silica-supported Catalyst System Rh−Mn−Ir−Li−Ti in Syngas to Ethanol Reaction: Reactivity Trends and Performance Optimization  \n",
       "28                                                           The newly-assisted catalytic mechanism of surface hydroxyl species performed as the promoter in syngas-to-C2 species on the Cu-based bimetallic catalysts  \n",
       "29                                                                          Constructing the active pairs of Co0-Co2+ via surface solid reaction on TiO2 with the additives of La and Al for higher alcohols synthesis  \n",
       "30                                                                                                                                      Regulating Oxygen Vacancies for Enhanced Higher Oxygenate Synthesis via Syngas  \n",
       "31                                                                  Ordered mesoporous Mg-modified silica to confine MoS2 slabs with high sulfidation and dispersion for higher alcohol synthesis via CO hydrogenation  \n",
       "32                                                         Co-Co2C catalysts supported on carbon-coated ordered mesoporous silica with promoted CO insertion and C-C coupling for higher alcohol synthesis from syngas  \n",
       "33                                                                                                                   Lignin carbon-initiated Ni/K/Mo2C catalyst for efficient synthesis of higher alcohols from syngas  \n",
       "34                                                                                                    Investigation of the role of oxygen vacancies in CuZn catalysts for the formation of higher alcohols from syngas  \n",
       "35                                                                                                   Design of efficient ZnO/ZrO2 modified CuCoAl catalysts for boosting higher alcohol synthesis in syngas conversion  \n",
       "36                                                                                                    Tuning CuO crystallite size by different solvents for higher alcohols synthesis from syngas over CuZnAl catalyst  \n",
       "37                                                                                        Impact of Cu complex anions on CuZnAl intercalated hydrotalcite-like catalysts for low-carbon alcohols synthesis from syngas  \n",
       "38                                                                                                  Maximizing the Interface of Dual Active Sites to Enhance Higher Oxygenate Synthesis from Syngas with High Activity  \n",
       "39                                                                                                              Direct conversion of syngas-to-hydrocarbons over higher alcohols synthesis catalysts mixed with HZSM-5  \n",
       "40                                                                                                                                     Higher alcohols synthesis via Fischer–Tropsch reaction at hcp-Co@Co2C interface  \n",
       "41                                                                                                             Electronic control of catalytic activity of ZnO for higher alcohols synthesis via tailoring Fermi level  \n",
       "42                                                                                                                 LaAlO3-Tailored Active Pairs of Co0-Coδ+ Supported on ZrO2 for Higher Alcohol Synthesis from Syngas  \n",
       "43                                                                                                                                Defective zirconia promotes monometallic iron catalysts for higher alcohol synthesis  \n",
       "44                                                                                                                                Oxygen vacancies boosted Co-Co2C catalysts for higher alcohols synthesis from syngas  \n",
       "45                                                                                                    Novel designing concept of CoCu catalyst with limited methanol formation in higher alcohol synthesis from syngas  \n",
       "46                                                          2D h-BN material covered Cu confined catalysts: unraveling the function of spatial dimension in tuning activity and selectivity of syngas-to-C2 oxygenates  \n",
       "47                                                                                              Zinc Blende CoO as an Efficient CO Nondissociative Adsorption Site for Direct Synthesis of Higher Alcohols from Syngas  \n",
       "48                                                                                                                                              Cerium doped Co/AC catalysts for higher alcohols synthesis from syngas  "
      ]
     },
     "metadata": {},
     "output_type": "display_data"
    }
   ],
   "source": [
    "#load the ontology from \"./ontologies/\" and perform reasoning\n",
    "onto_name= \"afo_new_bascat_50pubs-2024-09-20\" #input name of the ontology\n",
    "\n",
    "#perform reasoning, get dois from publications in the extended ontology\n",
    "onto_pub_list,onto,df=reasoning_dois_onto(onto_name)\n",
    "\n",
    "pd.set_option('display.max_rows', None)\n",
    "pd.set_option('display.max_columns', None)\n",
    "pd.set_option('display.width', None)\n",
    "pd.set_option('display.max_colwidth', None)\n",
    " \n",
    "display(df)\n"
   ]
  },
  {
   "cell_type": "markdown",
   "id": "2e8b6797",
   "metadata": {},
   "source": [
    "define DOI if only publications similar to specific publication in ontology should be queried from scopus\\\n",
    "if all publications in ontology should be used for query define the variable as:\\\n",
    "`doi = None`"
   ]
  },
  {
   "cell_type": "code",
   "execution_count": 37,
   "id": "6877ea8a",
   "metadata": {},
   "outputs": [],
   "source": [
    "doi = r'10.1016/j.fuel.2023.127500' "
   ]
  },
  {
   "cell_type": "markdown",
   "id": "134f2893",
   "metadata": {},
   "source": [
    "Retrieve an abstract of the specific publication in the ontology given the DOI of the publication "
   ]
  },
  {
   "cell_type": "code",
   "execution_count": null,
   "id": "619531a9",
   "metadata": {},
   "outputs": [],
   "source": [
    "doi_1=r'10.1016/j.checat.2023.100584'\n",
    "abstract=get_abstr(doi_1)"
   ]
  },
  {
   "cell_type": "markdown",
   "id": "cddceda8",
   "metadata": {},
   "source": [
    "Following cells represent possible queries for reactions\n",
    "\n",
    "- get list of all reactions for corresponding doi or from all publications if doi=None"
   ]
  },
  {
   "cell_type": "code",
   "execution_count": 38,
   "id": "3d3fdfae",
   "metadata": {
    "scrolled": true
   },
   "outputs": [
    {
     "name": "stdout",
     "output_type": "stream",
     "text": [
      "['carbonization']\n"
     ]
    }
   ],
   "source": [
    "list_reac_doi,_ = get_reaction(reac=None,doi=doi,include_all=False) #doi=None (if from all publications)\n",
    "reac_all = [*set([i[0].lower() for i in list_reac_doi])]\n",
    "print(reac_all)"
   ]
  },
  {
   "cell_type": "markdown",
   "id": "660cf5a2",
   "metadata": {},
   "source": [
    "- get the list of all publications in ontology where same reactions as in input publication were mentioned"
   ]
  },
  {
   "cell_type": "code",
   "execution_count": null,
   "id": "f03d0f44",
   "metadata": {},
   "outputs": [],
   "source": [
    "list_reac_doi,_ = get_reaction(reac = None,doi = doi) #get list of all reactions mentioned in given doi (doi should be part of ontology)\n",
    "same_reac_doi = []\n",
    "for i in list_reac_doi:\n",
    "    reac_doi,_ = get_reaction(reac = i[0],doi = None)\n",
    "    for c in reac_doi:\n",
    "        if c not in same_reac_doi and c[0] != doi:\n",
    "            same_reac_doi.append(c)     #output example: [['10.1016/0304-5102(93)87113-m'],['10.1016/1381-1169(96)00243-9']]\n",
    "\n",
    "print(list_reac_doi)\n",
    "print(same_reac_doi)"
   ]
  },
  {
   "cell_type": "markdown",
   "id": "b247feec",
   "metadata": {},
   "source": [
    "- get the list of publications, that mention the specific reaction"
   ]
  },
  {
   "cell_type": "code",
   "execution_count": null,
   "id": "4a66f63a",
   "metadata": {},
   "outputs": [],
   "source": [
    "reac=\"hydrogenation\"\n",
    "list_reac_doi,_ = get_reaction(reac=reac,doi=None)  #output example: [['10.1016/0304-5102(93)87113-m'],['10.1016/1381-1169(96)00243-9']]\n",
    "print(list_reac_doi)"
   ]
  },
  {
   "cell_type": "markdown",
   "id": "5bff719a",
   "metadata": {},
   "source": [
    "- get list of all publications which mention the specific reaction and reactions which have this specific reaction as part of their label"
   ]
  },
  {
   "cell_type": "code",
   "execution_count": null,
   "id": "2f1a239e",
   "metadata": {},
   "outputs": [],
   "source": [
    "reac=\"hydroformylation\" #specify a reaction\n",
    "\n",
    "list_reac_doi, df_reac = get_reaction(reac=\"hydroformylation\",doi=None, include_all=True)\n",
    "\n",
    "display(df_reac)"
   ]
  },
  {
   "cell_type": "markdown",
   "id": "584c0039",
   "metadata": {},
   "source": [
    "- get list of all entities mentioned in specific publication"
   ]
  },
  {
   "cell_type": "code",
   "execution_count": 34,
   "id": "83553328",
   "metadata": {},
   "outputs": [
    {
     "name": "stdout",
     "output_type": "stream",
     "text": [
      "['CO', 'iron atom', 'cobalt atom', 'syngas', 'carbon atom', 'carbide', '(FexCoy)2C alloy carbide', 'oxygenate', 'higher oxygenate', '(FexCoy)2C']\n"
     ]
    }
   ],
   "source": [
    "list_ent=get_entList(list_type='all',entity= None,doi=doi)\n",
    "print([i[1] for i in list_ent])"
   ]
  },
  {
   "cell_type": "markdown",
   "id": "8035c227",
   "metadata": {},
   "source": [
    "- get list of all extracted entities from publications in knowledge graph"
   ]
  },
  {
   "cell_type": "code",
   "execution_count": 35,
   "id": "b73264cd",
   "metadata": {},
   "outputs": [
    {
     "name": "stdout",
     "output_type": "stream",
     "text": [
      "['carbon monoxide', 'methoxide', 'methane', 'ethanol', 'rhodium atom', 'Rhodium catalyst', 'Rh supported on TiO2 catalyst', 'Rh supported on the pure phase anatase or rutile TiO2', 'Monometallic Rh catalysts', 'Rh catalysts', 'Rh supported on P25 and different facet Cu2O nanocrystal', 'Rh supported on P25 and 18 facet Cu2O nc', 'Rh-based and Cu nc catalysts', 'MCu (M = Co, Fe, Rh) catalysts', 'Rh supported on CeO2SACs with different Rh loadings (0.2-4 wt% Rh', 'atomically dispersed Rh', 'Rh supported on ceo2catalyst', 'Rh-based catalyst with Ce', 'Silica-supported catalyst based on Rh', 'Rh supported on P25 catalyst', 'supported single Rh catalyst', 'titanium dioxide', 'silicon dioxide', 'Co-based catalyst supported on TiO2 modified by La and Al', 'bare Co supported on TiO2 catalyst', 'rutile TiO2-supported catalyst', 'Mg-modified mesoporous silica (Mg-MS-x)', 'ordered mesoporous silica confined KNiMoS', 'carbon-coated ordered mesoporous silica (OMS) supported cobalt catalyst', 'carbon-coated amorphous SiO2 supported sample', 'carbon-silica composite support', 'ternary-alloyed CoCu2Ga nanoparticle supported on silica', 'CuFe supported on SiO2 catalyst', 'silica-supported catalyst', 'hydrogenation', 'CO', 'thermo-catalytic CO', 'direct CO', 'MA', 'oxomethyl', 'higher alcohol', 'C2 oxygenates', 'insertion', 'HA', 'alcohol', 'molybdenum disulfide', 'low-grade molybdenite concentrate', 'catalyst based on impure molybdenite', 'K-modified Co-promoted MoS2 catalyst', 'unprompted (K)-MoS2 catalyst supported on CNF-82Ni-8Cu/Al2O3 (CNFS)', 'ordered mesopore confined MoS2 catalyst', 'potassium-modified edge-rich molybdenum disulfide (MoS2) catalyst', 'CNF-82Ni-8Cu/Al2O3', 'C3+ alcohol', 'mesoporous activated bauxite', 'oxo(oxoalumanyloxy)alumane;hydrate', 'hydrocarbon', 'methanol', 'dimethyl ether', 'palladium', '5Pd supported on ZnO supported on Al2O3)', '5Pd supported on ZnO supported on Al2O3', '0.5Pd supported on FeCoCu (HAS) catalyst', '0.5Pd supported on FeCoCu', 'zinc oxide', 'cobalt;copper;iron', 'ZnO doping with 4 mol% Cu', 'electronically modified ZnO catalyst', 'ZnO modified ZrO2 composite', 'CCA|ZnO supported on ZrO2 (m: n) modified catalyst', 'CCA|ZnO supported on ZrO2 (4:1) catalyst', 'CCA|ZnO|CCA|ZnO supported on ZrO2 catalyst', 'Flower-like ZnO', 'Cu supported on ZnO catalyst', 'perfect and defective Cu4 supported on ZnO(0001) catalyst', 'Cu4 supported on ZnO(0001) catalyst', 'Cu4 supported on ZnO(0001)', 'Cu4 supported on ZnO(0001)-5%Ov', 'dioxozirconium', 'iron atom', 'cobalt atom', 'copper atom', 'Iron with 10 mol% ZrO2', 'La-RhCo supported on ZrO2 nanoscaled catalyst', 'LaAl1-xCoxO3 (x = 0.2-0.5) were supported on ZrO2', 'Co-LaAlO3 supported on ZrO2', 'La0.9K0.1CoxFe1-xO3 supported on ZrO2', '5-10 mol% ZrO2', 'Cu:Co = 1:4, 5 mol% ZrO2', 'ZrO2-free counterpart', 'Co1Fe4 supported on ZrO2-10', 'oxygen atom', 'zirconium atom', 'aluminium oxide', '82Ni-8Cu supported on Al2O3 catalyst', 'catalyst supported on Al2O3', 'carbon-coated alumina', 'hexadehydroastechrome', 'HAS catalyst', 'syngas', 'durene', 'C5+ fraction', 'C5+ hydrocarbon', 'C5+ hydrocarbon fraction', 'HZSM-5', 'Fe catalyst', 'Promoted monometallic iron', 'Monometallic iron catalyst', 'TM supported on Mo6S8 (TM = Fe, Ru) catalysts', 'Fe supported on Mo6S8', 'Co-Fe m-FTS', 'Co-based HAS catalyst', 'Co supported on 10C supported on OMS', 'Co supported on xC supported on OMS', 'fcc-Co', 'hcp-Co', 'Co supported on Cu-NC', 'CoMn-350 catalyst', 'Co np', 'carbon atom', '(1-methylcyclobutyl) N-[(1S,4R,6S,7Z,14S,18R)-18-(7-methoxy-3-methylquinoxalin-2-yl)oxy-4-[(1-methylcyclopropyl)sulfonylcarbamoyl]-2,15-dioxo-3,16-diazatricyclo[14.3.0.04,6]nonadec-7-en-14-yl]carbamate', '-', 'sodium;4-[(Z)-[4-(ethylamino)-3-methylphenyl]-(4-ethylimino-3-methylcyclohexa-2,5-dien-1-ylidene)methyl]-3-sulfobenzenesulfonate', 'calcium titanate', 'electron-rich Cu', 'xh-BN supported on Cu', '4.0h-BN supported on Cu catalyst', 'h-BN supported on Cu catalyst', 'open mesoporous lignin carbon', 'fabric-activated carbon', 'CoNi bimetal supported on CaTiO3', 'cycloheximide', 'dissociation', 'ferrosoferric oxide', 'Fe3O4-Fe5C2', 'multimetallic material', 'oxygen vacancy boosted Co-Co2C catalyst', 'Co-Co2C supported on LaFeO3-ZrO2 catalyst promoted by oxygen vacancy and K2O-La2O3', 'oxygen vacancy promoted Co-Co2C catalyst', 'Fe5C2', 'CoCu catalyst', 'KIT-6 supported CoCu catalyst', 'traditional CoCu catalyst', 'promoter-assisted CoCu catalyst', 'cobalt;copper', 'CuCo intermetallic', 'copper(II) oxide', 'CuZnAl catalyst', 'aluminum;zinc;copper(1+)', 'CuZnAl supported on S-1', 'CuZnAl conventional catalyst', 'CuZnAl slurry catalyst', 'zinc atom', 'aluminium atom', 'zinc blende CoO', 'catalyst modified by Al and La', '(Z)-dehydrocyclopeptine', 'Co0-Z-CoO', '6-aminohexanoic acid', 'Monometallic Co0-Coδ+ catalysts', 'cobalt silicate hydroxide', 'cobalt silicate hydroxide-derived catalyst', 'silicate(4-)', 'hydroxide', 'OH supported on MCu catalyst', 'R-CoO', 'R', 'Co2C', 'hcp-Co supported on Co2C catalyst', 'Co0-Coδ+', 'cobalt;oxygen(2-)', 'HAs', 'Co-Co2C catalyst', 'Co-Co2C', 'Bamboo lignin', 'non-wood pulping black liquor', 'bamboo lignin', 'cellulose', 'hemicellulose', 'lignin', 'biomass-derived feedstock', 'porous nano molybdenum carbide', 'carbide catalyst', 'molybdenum carbide', 'carbide', 'molybdenum atom', '(FexCoy)2C alloy carbide', 'oxygenate', 'catalytic decomposition', 'NWA', 'AST', 'sulfided catalyst', 'CNFS-supported catalyst', 'supported sulfided catalyst', 'water-gas shift reaction', 'KNiMoS catalysts', 'KNiMoS supported on Mg-MS-20', 'ROH', 'KNiMoS', 'potassium atom', 'nickel atom', 'sulfur atom', 'Ni supported on γ-Al2O3', 'Mg-MS-x', 'magnesium atom', 'Mg-MS-20', 'Hydrogenation', 'thermocatalytic ethanol', 'CoCu2Ga catalyst with 3.5 wt% and 17.8 wt%', 'CoCu2Ga', 'gallium atom', 'Higher alcohol', 'Coδ+/Co0', 'cobalt;nickel', 'carbon dioxide', 'FeCoCuZr catalyst', 'Fe65Co19Cu5Zr11 catalyst', 'FeCoCuZr', 'Fe65Co19Cu5Zr11', 'CuZn catalyst', 'CZ-0.80 catalyst', 'coal', 'copper;zinc', 'CuZn supported on S-1', 'CZ-0.80', 'low-carbon alcohol', 'C2+ oxygenate', 'Bulk alloy', '1Rh1Ni supported on γ-Al2O3 catalyst', '1Rh1Ni supported on γ-Al2O3', 'RhxNiy(111)', 'Rh1Ni1(111)', 'γ-Al2O3', 'CuZnAlOx supported on γ-Al2O3', 'acetylene', 'carbonization', 'hydrophobic CuCoSNTs-c catalyst', 'CuCoSNTs-c catalyst', 'CuCoSNTs', 'nitrogen(.)', 'Cu1-N4', 'Cu-NC', 'cuprous oxide', 'P25', 'total alcohol', 'supported catalyst', 'copper;iron', 'higher oxygenate', '(FexCoy)2C', 'manganese atom', 'CHx* monomer', 'short-chain alcohol', 'untransformed CoxMn1-xO', 'C2-5OH', 'hydrogen atom', 'CoxMn1-xO', 'Syngas', 'Py-HMOR', 'carbonylation', 'Cu1Zn2AlOx', 'CuZnAlOx', 'hydrogenated', 'C2-4OH', 'C2 hydrocarbon', 'dicarbon', 'MCu catalysts', 'MCu', 'hydrolysis', 'straight chain higher alcohol', 'cobalt;rhodium', 'aluminum;lanthanum(3+);oxygen(2-)', 'lanthanum atom', 'LaAl1-xCoxO3', 'CuCo-LDH-aw', 'hydrodeoxygenation', 'CuCo-LDH', '1-(4-cyanophenyl)-N-(3-fluorophenyl)-3-(4-methylsulfonylphenyl)pyrazole-4-carboxamide', 'LSM-1306', 'CZA supported on S-1', 'CZA supported on S-1 catalyst', 'ZnAl supported on S-1', 'CuAl supported on S-1', 'aluminum;copper', 'ZnAl', 'S-1', 'SACs', 'RhNC', 'CeO2SACs', 'cerium', 'caesium atom', 'ceo2catalyst', '∗CHx', 'higher-alcohol', 'CaFe catalyst', '2 wt% CaFe catalyst', 'CaFe', 'calcium atom', 'boron nitride', 'CHx(x = 1-3) monomer', '2D material covered metal confined catalyst', 'xh-BN', 'boron atom', '0h-BN', '2.0Rh5.0Ce-ZrO2 catalyst', 'Rh5.0Ce-ZrO2', 'perovskite', 'La0.9K0.1CoxFe1-xO3', 'K2O-La2O3', 'LaFeO3-ZrO2', 'Lobenzarit disodium', 'CuCoAl (CCA) catalyst', 'aluminum;cobalt(2+);copper(1+)', 'ethane', 'acetaldehyde', 'ruthenium atom', 'Thr-Met', 'TM supported on Mo6S8 catalyst', 'CH3 specie', 'Mo6S8', 'DME', 'lithium atom', 'Ir, Li and Ti', 'iridium atom', 'titanium atom', '2.8Rh, 0.45Mn, 1.3Ir, 0.04Li', 'hydrogenation catalyst', 'Rh, 0.45Mn, 1.3Ir, 0.04Li', 'oxygenated compound', 'high-value chemical', 'Co metal-CoAl2O4', 'cobalt(2+);oxido(oxo)alumane', 'oxygenated', 'cobalt;iron', 'Cu1Co4']\n"
     ]
    }
   ],
   "source": [
    "list_ent=[i[1] for i in get_entList(list_type='all',entity= None,doi=None)]\n",
    "list_distinct=[]\n",
    "for i in list_ent:\n",
    "    if i not in list_distinct:\n",
    "        list_distinct.append(i)\n",
    "print(list_distinct)"
   ]
  },
  {
   "cell_type": "code",
   "execution_count": null,
   "id": "de76d0ba",
   "metadata": {},
   "outputs": [],
   "source": [
    "doi=None"
   ]
  },
  {
   "cell_type": "code",
   "execution_count": null,
   "id": "005b5376",
   "metadata": {},
   "outputs": [],
   "source": [
    "doi = \"10.1021/acscatal.3c05579\""
   ]
  },
  {
   "cell_type": "markdown",
   "id": "19bae051",
   "metadata": {},
   "source": [
    "With following code the retrieval if all reactants, products, support materials, catalysts is performed, which are mentioned in one specific publication or from all publication in extended ontology (if doi=None) \n",
    "with `get_synonyms` all possible synonyms of chemical entities will be retrieved.\\\n",
    "For example from \"rhodium atom \" class, synonyms such as \"Rh\", \"rhodium\", \"45Rh\" are retrieved"
   ]
  },
  {
   "cell_type": "code",
   "execution_count": null,
   "id": "359ae7e6",
   "metadata": {
    "scrolled": true
   },
   "outputs": [],
   "source": [
    "sup_list=get_support(sup=None,doi=doi)\n",
    "_,sup_all=get_synonyms(sup_list)\n",
    "print('all queried synonyms of support:')\n",
    "print(list(sup_all.values()))\n",
    "\n",
    "cat_list=get_catalyst(cat=None,doi=doi,include_all=True)\n",
    "_,cat_all=get_synonyms(cat_list)\n",
    "print('\\nall queried synonyms of catalytic components:')\n",
    "print(list(cat_all.values()))\n",
    "\n",
    "reactant_list=get_entList('reactant',entity= None,doi=doi)\n",
    "reactant_all,_=get_synonyms(reactant_list)\n",
    "print('\\nall queried synonyms of reactants:')\n",
    "print(reactant_all)\n",
    "\n",
    "product_list=get_entList('product',entity= None,doi=doi)\n",
    "product_all,_=get_synonyms(product_list)\n",
    "print('\\nall queried synonyms of products:')\n",
    "print(product_all)\n",
    "\n",
    "cat_list_full=get_catalyst_full(doi = doi)\n",
    "_,cat_full_all=get_synonyms(cat_list_full)\n",
    "print('\\nall queried catalyst entities:')\n",
    "print(list(cat_full_all.values()))"
   ]
  },
  {
   "cell_type": "markdown",
   "id": "5044ce85",
   "metadata": {},
   "source": [
    "## Iterate through all DOIs"
   ]
  },
  {
   "cell_type": "code",
   "execution_count": 24,
   "id": "34800c18",
   "metadata": {},
   "outputs": [],
   "source": []
  },
  {
   "cell_type": "code",
   "execution_count": null,
   "id": "bb0429ee",
   "metadata": {
    "scrolled": true
   },
   "outputs": [],
   "source": [
    "def pad_list(data, target_len):\n",
    "    return data + [None] * (target_len - len(data))\n",
    "\n",
    "df_all = pd.DataFrame()\n",
    "\n",
    "for doi in df[\"DOI\"]:\n",
    "    sup_list=get_support(sup=None,doi=doi)\n",
    "    _,sup_all=get_synonyms(sup_list)\n",
    "    #  print('all queried synonyms of support:')\n",
    "    #print(list(sup_all.values()))\n",
    "\n",
    "    cat_list=get_catalyst(cat=None,doi=doi,include_all=True)\n",
    "    _,cat_all=get_synonyms(cat_list)\n",
    "    #  print('\\nall queried synonyms of catalytic components:')\n",
    "    #print(list(cat_all.values()))\n",
    "\n",
    "    reactant_list=get_entList('reactant',entity= None,doi=doi)\n",
    "    reactant_all,_=get_synonyms(reactant_list)\n",
    "    #  print('\\nall queried synonyms of reactants:')\n",
    "    #print(reactant_all)\n",
    "\n",
    "    product_list=get_entList('product',entity= None,doi=doi)\n",
    "    product_all,_=get_synonyms(product_list)\n",
    "    #  print('\\nall queried synonyms of products:')\n",
    "    #print(product_all)\n",
    "\n",
    "    cat_list_full=get_catalyst_full(doi = doi)\n",
    "    _,cat_full_all=get_synonyms(cat_list_full)\n",
    "    #  print('\\nall queried catalyst entities:')\n",
    "    #  print(list(cat_full_all.values()))\n",
    "    \n",
    "    #max_len = max(len(list(sup_all.values())), len(list(cat_all.values())), len(reactant_all), len(product_all), len(list(cat_full_all.values())))\n",
    "    max_len = max(len(sup_list), len(cat_list), len(reactant_list), len(product_list), len(cat_list_full))\n",
    "    \n",
    "    doi_extended = [doi] * max_len\n",
    "    sup_extended = pad_list(sup_list, max_len)\n",
    "    cat_extended = pad_list(cat_list, max_len)\n",
    "    reactant_extended = pad_list(reactant_list, max_len)\n",
    "    product_extended = pad_list(product_list, max_len)\n",
    "    cat_full_extended = pad_list(cat_list_full, max_len)\n",
    "    \n",
    "    df_out = pd.DataFrame({\n",
    "        'doi': doi_extended,\n",
    "        'sup_all': sup_extended,\n",
    "        'cat_all': cat_extended,\n",
    "        'reactant_all': reactant_extended,\n",
    "        'product_all': product_extended,\n",
    "        'cat_full_all': cat_full_extended\n",
    "    })\n",
    "    \n",
    "    df_all = pd.concat([df_all, df_out], axis = 0)\n",
    "    \n",
    "df_all"
   ]
  },
  {
   "cell_type": "code",
   "execution_count": 28,
   "id": "e9c773be",
   "metadata": {},
   "outputs": [
    {
     "data": {
      "text/html": [
       "<div>\n",
       "<style scoped>\n",
       "    .dataframe tbody tr th:only-of-type {\n",
       "        vertical-align: middle;\n",
       "    }\n",
       "\n",
       "    .dataframe tbody tr th {\n",
       "        vertical-align: top;\n",
       "    }\n",
       "\n",
       "    .dataframe thead th {\n",
       "        text-align: right;\n",
       "    }\n",
       "</style>\n",
       "<table border=\"1\" class=\"dataframe\">\n",
       "  <thead>\n",
       "    <tr style=\"text-align: right;\">\n",
       "      <th></th>\n",
       "    </tr>\n",
       "  </thead>\n",
       "  <tbody>\n",
       "  </tbody>\n",
       "</table>\n",
       "</div>"
      ],
      "text/plain": [
       "Empty DataFrame\n",
       "Columns: []\n",
       "Index: []"
      ]
     },
     "execution_count": 28,
     "metadata": {},
     "output_type": "execute_result"
    }
   ],
   "source": [
    "a = pd.DataFrame()\n",
    "a."
   ]
  },
  {
   "cell_type": "markdown",
   "id": "312697cd",
   "metadata": {},
   "source": [
    "## END"
   ]
  },
  {
   "cell_type": "code",
   "execution_count": 23,
   "id": "459d7636",
   "metadata": {},
   "outputs": [
    {
     "name": "stdout",
     "output_type": "stream",
     "text": [
      "all queried synonyms of support:\n",
      "[]\n"
     ]
    }
   ],
   "source": [
    "sup_list=get_support(sup=None,doi=doi)\n",
    "_,sup_all=get_synonyms(sup_list)\n",
    "print('all queried synonyms of support:')\n",
    "print(list(sup_all.values()))"
   ]
  },
  {
   "cell_type": "code",
   "execution_count": null,
   "id": "835734b5",
   "metadata": {},
   "outputs": [],
   "source": [
    "onto_pub_list"
   ]
  },
  {
   "cell_type": "code",
   "execution_count": null,
   "id": "45a4f16d",
   "metadata": {},
   "outputs": [],
   "source": [
    "sup_list=get_support(sup=None,doi=doi,only_doi= False)\n",
    "sup_cat=[]\n",
    "for i in range(len(sup_list)):\n",
    "    sup_cat.append([sup_list[i][1],sup_list[i][2]])\n",
    "print(sup_cat)"
   ]
  },
  {
   "cell_type": "markdown",
   "id": "5671fef0",
   "metadata": {},
   "source": [
    "Perform a search in scopus using collected information from ontology\\\n",
    "Queries have following structure: 'TITLE-ABS-KEY(\"reaction\"AND\"catalyst\"AND\"support material\"AND\"reactant\"AND\"product\")' in all possible combinations"
   ]
  },
  {
   "cell_type": "code",
   "execution_count": null,
   "id": "073bc1a6",
   "metadata": {
    "scrolled": false
   },
   "outputs": [],
   "source": [
    "doi=None\n",
    "df_all=scopus_seach_process(doi, onto_pub_list)"
   ]
  },
  {
   "cell_type": "markdown",
   "id": "ab8ef1bd",
   "metadata": {},
   "source": [
    "All distinct results are saved in sheet 'distinct_eid'.\\\n",
    "Filter found publication according to the start and end date\\\n",
    "If no filtering nessesary define `start_date` as follows:\\\n",
    "`get_synonyms = None`"
   ]
  },
  {
   "cell_type": "code",
   "execution_count": null,
   "id": "27ff9212",
   "metadata": {},
   "outputs": [],
   "source": [
    "start_date = '2019-01-01'\n",
    "end_date = '2023-12-31' \n",
    "\n",
    "distinct_df, filtered_df, filtered_df_doi, filtered_df_doi_new = filter_date(start_date,end_date, df_all,onto_pub_list)"
   ]
  },
  {
   "cell_type": "markdown",
   "id": "cb390145",
   "metadata": {},
   "source": [
    "save from scopus quieried publication information in Excel"
   ]
  },
  {
   "cell_type": "code",
   "execution_count": null,
   "id": "5c7059d8",
   "metadata": {},
   "outputs": [],
   "source": [
    "output_path='./output/output_new_23023024.xlsx' #define the output path\n",
    "\n",
    "save_in_excel(output_path, df_all, distinct_df, filtered_df, filtered_df_doi, filtered_df_doi_new )"
   ]
  },
  {
   "cell_type": "code",
   "execution_count": null,
   "id": "55f96297",
   "metadata": {},
   "outputs": [],
   "source": []
  }
 ],
 "metadata": {
  "kernelspec": {
   "display_name": "Python 3 (ipykernel)",
   "language": "python",
   "name": "python3"
  },
  "language_info": {
   "codemirror_mode": {
    "name": "ipython",
    "version": 3
   },
   "file_extension": ".py",
   "mimetype": "text/x-python",
   "name": "python",
   "nbconvert_exporter": "python",
   "pygments_lexer": "ipython3",
   "version": "3.7.12"
  }
 },
 "nbformat": 4,
 "nbformat_minor": 5
}
