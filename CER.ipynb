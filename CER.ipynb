{
 "cells": [
  {
   "cell_type": "code",
   "execution_count": 7,
   "id": "8a39998a",
   "metadata": {},
   "outputs": [
    {
     "ename": "ModuleNotFoundError",
     "evalue": "No module named 'chemlistem'",
     "output_type": "error",
     "traceback": [
      "\u001b[1;31m---------------------------------------------------------------------------\u001b[0m",
      "\u001b[1;31mModuleNotFoundError\u001b[0m                       Traceback (most recent call last)",
      "\u001b[1;32m~\\AppData\\Local\\Temp\\ipykernel_29864\\1117725626.py\u001b[0m in \u001b[0;36m<module>\u001b[1;34m\u001b[0m\n\u001b[1;32m----> 1\u001b[1;33m \u001b[1;32mfrom\u001b[0m \u001b[0mchemlistem\u001b[0m \u001b[1;32mimport\u001b[0m \u001b[0mget_ensemble_model\u001b[0m\u001b[1;33m\u001b[0m\u001b[1;33m\u001b[0m\u001b[0m\n\u001b[0m",
      "\u001b[1;31mModuleNotFoundError\u001b[0m: No module named 'chemlistem'"
     ]
    }
   ],
   "source": [
    "\n",
    "from chemlistem import get_ensemble_model"
   ]
  },
  {
   "cell_type": "code",
   "execution_count": 8,
   "id": "d1d199a9",
   "metadata": {},
   "outputs": [
    {
     "ename": "NameError",
     "evalue": "name 'get_ensemble_model' is not defined",
     "output_type": "error",
     "traceback": [
      "\u001b[1;31m---------------------------------------------------------------------------\u001b[0m",
      "\u001b[1;31mNameError\u001b[0m                                 Traceback (most recent call last)",
      "\u001b[1;32m~\\AppData\\Local\\Temp\\ipykernel_29864\\3537725583.py\u001b[0m in \u001b[0;36m<module>\u001b[1;34m\u001b[0m\n\u001b[1;32m----> 1\u001b[1;33m \u001b[0mmodel\u001b[0m \u001b[1;33m=\u001b[0m \u001b[0mget_ensemble_model\u001b[0m\u001b[1;33m(\u001b[0m\u001b[1;33m)\u001b[0m\u001b[1;33m\u001b[0m\u001b[1;33m\u001b[0m\u001b[0m\n\u001b[0m\u001b[0;32m      2\u001b[0m \u001b[0mresults\u001b[0m \u001b[1;33m=\u001b[0m \u001b[0mmodel\u001b[0m\u001b[1;33m.\u001b[0m\u001b[0mprocess\u001b[0m\u001b[1;33m(\u001b[0m\u001b[1;34m\"The morphine was dissolved in ethyl acetate.\"\u001b[0m\u001b[1;33m)\u001b[0m\u001b[1;33m\u001b[0m\u001b[1;33m\u001b[0m\u001b[0m\n\u001b[0;32m      3\u001b[0m \u001b[0mprint\u001b[0m\u001b[1;33m(\u001b[0m\u001b[0mresults\u001b[0m\u001b[1;33m)\u001b[0m\u001b[1;33m\u001b[0m\u001b[1;33m\u001b[0m\u001b[0m\n",
      "\u001b[1;31mNameError\u001b[0m: name 'get_ensemble_model' is not defined"
     ]
    }
   ],
   "source": [
    "model = get_ensemble_model()\n",
    "results = model.process(\"The morphine was dissolved in ethyl acetate.\")\n",
    "print(results)"
   ]
  },
  {
   "cell_type": "code",
   "execution_count": 9,
   "id": "80b7a5ee",
   "metadata": {},
   "outputs": [],
   "source": [
    "from chemdataextractor import Document\n",
    "doc = Document('Rh-based catalyst')\n",
    "\n",
    "list1=doc.cems\n",
    "for i in list1:\n",
    "    print(i.text)\n",
    "    "
   ]
  },
  {
   "cell_type": "code",
   "execution_count": 10,
   "id": "891bfed0",
   "metadata": {},
   "outputs": [
    {
     "name": "stdout",
     "output_type": "stream",
     "text": [
      "[Compound(24261), Compound(22644374), Compound(159561309), Compound(11521065), Compound(12895826)]\n"
     ]
    }
   ],
   "source": [
    "from pubchempy import Compound, get_compounds\n",
    "results = get_compounds('SiO2', 'formula')\n",
    "print(results)"
   ]
  },
  {
   "cell_type": "code",
   "execution_count": 11,
   "id": "5b00700b",
   "metadata": {},
   "outputs": [
    {
     "name": "stdout",
     "output_type": "stream",
     "text": [
      "[Compound(24261), Compound(22644374), Compound(159561309), Compound(11521065), Compound(12895826)]\n"
     ]
    }
   ],
   "source": [
    "from pubchempy import Compound, get_compounds\n",
    "results = get_compounds('SiO2', 'formula')\n",
    "print(results)"
   ]
  },
  {
   "cell_type": "code",
   "execution_count": 12,
   "id": "754bf9ed",
   "metadata": {},
   "outputs": [
    {
     "name": "stdout",
     "output_type": "stream",
     "text": [
      "O=[Si]=O\n",
      "[O-2].[O-2].[Si+4]\n",
      "O=O.[Si]\n",
      "[18O]=[Si]=[18O]\n",
      "O1O[Si]1\n"
     ]
    }
   ],
   "source": [
    "for compound in results:\n",
    "    print(compound.isomeric_smiles)"
   ]
  },
  {
   "cell_type": "code",
   "execution_count": 13,
   "id": "b766e1d8",
   "metadata": {},
   "outputs": [
    {
     "ename": "TypeError",
     "evalue": "__init__() got an unexpected keyword argument 'codec'",
     "output_type": "error",
     "traceback": [
      "\u001b[1;31m---------------------------------------------------------------------------\u001b[0m",
      "\u001b[1;31mTypeError\u001b[0m                                 Traceback (most recent call last)",
      "\u001b[1;32m~\\AppData\\Local\\Temp\\ipykernel_29864\\2210561163.py\u001b[0m in \u001b[0;36m<module>\u001b[1;34m\u001b[0m\n\u001b[0;32m     68\u001b[0m \u001b[1;33m\u001b[0m\u001b[0m\n\u001b[0;32m     69\u001b[0m \u001b[0mpath\u001b[0m \u001b[1;33m=\u001b[0m \u001b[1;34m'./test/acs_iecr_0c03437.pdf'\u001b[0m\u001b[1;33m\u001b[0m\u001b[1;33m\u001b[0m\u001b[0m\n\u001b[1;32m---> 70\u001b[1;33m \u001b[0mxml_txt\u001b[0m \u001b[1;33m=\u001b[0m \u001b[0mconvert_pdf\u001b[0m\u001b[1;33m(\u001b[0m\u001b[0mpath\u001b[0m\u001b[1;33m=\u001b[0m\u001b[0mpath\u001b[0m\u001b[1;33m,\u001b[0m \u001b[0mformat\u001b[0m\u001b[1;33m=\u001b[0m\u001b[1;34m'xml'\u001b[0m\u001b[1;33m)\u001b[0m\u001b[1;33m\u001b[0m\u001b[1;33m\u001b[0m\u001b[0m\n\u001b[0m",
      "\u001b[1;32m~\\AppData\\Local\\Temp\\ipykernel_29864\\2210561163.py\u001b[0m in \u001b[0;36mconvert_pdf\u001b[1;34m(path, format, codec, password, maxpages, caching, pagenos)\u001b[0m\n\u001b[0;32m     47\u001b[0m         \u001b[0mdevice\u001b[0m \u001b[1;33m=\u001b[0m \u001b[0mHTMLConverter\u001b[0m\u001b[1;33m(\u001b[0m\u001b[0mrsrcmgr\u001b[0m\u001b[1;33m,\u001b[0m \u001b[0mretstr\u001b[0m\u001b[1;33m,\u001b[0m \u001b[0mcodec\u001b[0m\u001b[1;33m=\u001b[0m\u001b[0mcodec\u001b[0m\u001b[1;33m,\u001b[0m \u001b[0mlaparams\u001b[0m\u001b[1;33m=\u001b[0m\u001b[0mlaparams\u001b[0m\u001b[1;33m)\u001b[0m\u001b[1;33m\u001b[0m\u001b[1;33m\u001b[0m\u001b[0m\n\u001b[0;32m     48\u001b[0m     \u001b[1;32melif\u001b[0m \u001b[0mformat\u001b[0m \u001b[1;33m==\u001b[0m \u001b[1;34m\"xml\"\u001b[0m\u001b[1;33m:\u001b[0m\u001b[1;33m\u001b[0m\u001b[1;33m\u001b[0m\u001b[0m\n\u001b[1;32m---> 49\u001b[1;33m         \u001b[0mdevice\u001b[0m \u001b[1;33m=\u001b[0m \u001b[0mXMLConverter\u001b[0m\u001b[1;33m(\u001b[0m\u001b[0mrsrcmgr\u001b[0m\u001b[1;33m,\u001b[0m \u001b[0mretstr\u001b[0m\u001b[1;33m,\u001b[0m \u001b[0mcodec\u001b[0m\u001b[1;33m=\u001b[0m\u001b[0mcodec\u001b[0m\u001b[1;33m,\u001b[0m \u001b[0mlaparams\u001b[0m\u001b[1;33m=\u001b[0m\u001b[0mlaparams\u001b[0m\u001b[1;33m)\u001b[0m\u001b[1;33m\u001b[0m\u001b[1;33m\u001b[0m\u001b[0m\n\u001b[0m\u001b[0;32m     50\u001b[0m     \u001b[1;32melse\u001b[0m\u001b[1;33m:\u001b[0m\u001b[1;33m\u001b[0m\u001b[1;33m\u001b[0m\u001b[0m\n\u001b[0;32m     51\u001b[0m         \u001b[1;32mraise\u001b[0m \u001b[0mValueError\u001b[0m\u001b[1;33m(\u001b[0m\u001b[1;34m\"provide format, either text, html or xml!\"\u001b[0m\u001b[1;33m)\u001b[0m\u001b[1;33m\u001b[0m\u001b[1;33m\u001b[0m\u001b[0m\n",
      "\u001b[1;31mTypeError\u001b[0m: __init__() got an unexpected keyword argument 'codec'"
     ]
    }
   ],
   "source": [
    "from typing import Container\n",
    "from io import BytesIO\n",
    "from pdfminer.pdfinterp import PDFResourceManager, PDFPageInterpreter\n",
    "from pdfminer.converter import TextConverter, XMLConverter, HTMLConverter\n",
    "from pdfminer.layout import LAParams\n",
    "from pdfminer.pdfpage import PDFPage\n",
    "\n",
    "\n",
    "def convert_pdf(\n",
    "    path: str,\n",
    "    format: str = \"text\",\n",
    "    codec: str = \"utf-8\",\n",
    "    password: str = \"\",\n",
    "    maxpages: int = 0,\n",
    "    caching: bool = True,\n",
    "    pagenos: Container[int] = set(),\n",
    ") -> str:\n",
    "    \"\"\"Summary\n",
    "    Parameters\n",
    "    ----------\n",
    "    path : str\n",
    "        Path to the pdf file\n",
    "    format : str, optional\n",
    "        Format of output, must be one of: \"text\", \"html\", \"xml\".\n",
    "        By default, \"text\" format is used\n",
    "    codec : str, optional\n",
    "        Encoding. By default \"utf-8\" is used\n",
    "    password : str, optional\n",
    "        Password\n",
    "    maxpages : int, optional\n",
    "        Max number of pages to convert. By default is 0, i.e. reads all pages.\n",
    "    caching : bool, optional\n",
    "        Caching. By default is True\n",
    "    pagenos : Container[int], optional\n",
    "        Provide a list with numbers of pages to convert\n",
    "    Returns\n",
    "    -------\n",
    "    str\n",
    "        Converted pdf file\n",
    "    \"\"\"\n",
    "    rsrcmgr = PDFResourceManager()\n",
    "    retstr = BytesIO()\n",
    "    laparams = LAParams()\n",
    "    if format == \"text\":\n",
    "        device = TextConverter(rsrcmgr, retstr, codec=codec, laparams=laparams)\n",
    "    elif format == \"html\":\n",
    "        device = HTMLConverter(rsrcmgr, retstr, codec=codec, laparams=laparams)\n",
    "    elif format == \"xml\":\n",
    "        device = XMLConverter(rsrcmgr, retstr, codec=codec, laparams=laparams)\n",
    "    else:\n",
    "        raise ValueError(\"provide format, either text, html or xml!\")\n",
    "    fp = open(path, \"rb\")\n",
    "    interpreter = PDFPageInterpreter(rsrcmgr, device)\n",
    "    for page in PDFPage.get_pages(\n",
    "        fp,\n",
    "        pagenos,\n",
    "        maxpages=maxpages,\n",
    "        password=password,\n",
    "        caching=caching,\n",
    "        check_extractable=True,\n",
    "    ):\n",
    "        interpreter.process_page(page)\n",
    "    text = retstr.getvalue().decode()\n",
    "    fp.close()\n",
    "    device.close()\n",
    "    retstr.close()\n",
    "    return text\n",
    "\n",
    "path = './test/acs_iecr_0c03437.pdf'\n",
    "xml_txt = convert_pdf(path=path, format='xml')"
   ]
  },
  {
   "cell_type": "code",
   "execution_count": null,
   "id": "42442b6f",
   "metadata": {},
   "outputs": [],
   "source": [
    "from chemdataextractor import Document\n",
    "f = open('./test/acs_iecr_0c03437-v2.html', 'rb')\n",
    "doc = Document.from_file(f)\n",
    "doc.elements"
   ]
  },
  {
   "cell_type": "code",
   "execution_count": null,
   "id": "e24d08d2",
   "metadata": {},
   "outputs": [],
   "source": [
    "doc.cems"
   ]
  },
  {
   "cell_type": "code",
   "execution_count": null,
   "id": "a8b3a8c4",
   "metadata": {},
   "outputs": [],
   "source": [
    "doc.abbreviation_definitions"
   ]
  },
  {
   "cell_type": "code",
   "execution_count": null,
   "id": "1116cf41",
   "metadata": {},
   "outputs": [],
   "source": [
    "doc.sentences"
   ]
  },
  {
   "cell_type": "code",
   "execution_count": null,
   "id": "2409e3f7",
   "metadata": {},
   "outputs": [],
   "source": [
    "from chemdataextractor.model import Compound, MeltingPoint\n",
    "doc.models = [Compound]\n",
    "doc.records.serialize()"
   ]
  },
  {
   "cell_type": "code",
   "execution_count": null,
   "id": "e5f88163",
   "metadata": {},
   "outputs": [],
   "source": [
    "from chemdataextractor.model import QuantityModel\n",
    "from chemdataextractor.model.units import Dimension, Time\n",
    "from chemdataextractor.parse.elements import I, R \n",
    "from chemdataextractor.parse.actions import merge\n",
    "from chemdataextractor.model.model import Compound, StringType\n",
    "from chemdataextractor.doc import Document,Paragraph\n",
    "from chemdataextractor.model.base import BaseModel, StringType, ListType, ModelType, SetType\n",
    "\n",
    "class Conversion(Dimension):\n",
    "    constituent_dimensions = Time() ** (-1)\n",
    "\n",
    "class ConversionModel(QuantityModel):\n",
    "    dimensions = Conversion()\n",
    "    \n",
    "class TurnOverFrequency (ConversionModel):\n",
    "    expression = I('TOF')\n",
    "    specifier = StringType(parse_expression=expression, required=True, contextual=False, updatable=False)\n",
    "    compound = ModelType(Compound, required=False, contextual=False)\n",
    "    \n",
    "doc = Document(\n",
    "    Paragraph('For 0.6Rh/SiO2, the catalyst productivity was 44 mol/(molRh·h) and the TOF was 2511 h–1 at the time on stream (TOS) of 5 h. The propanal selectivity was 38%, and the total selectivity to oxygenates was 43%. The detailed product distribution is summarized in Table 1. The 0.6Rh0.23Co/SiO2 catalyst was then studied. A physically mixed catalyst (0.6Rh + 0.23Co) containing the same metal content as 0.6Rh0.23Co/SiO2 was also evaluated for comparison. As listed in Table 1, the catalytic performance of 0.6Rh + 0.23Co was very similar to that of 0.6Rh/SiO2, indicating that the 0.6Rh/SiO2 and 1Co/SiO2 catalysts worked independently in the physically mixed catalyst considering that 1Co/SiO2 was almost inert for this reaction. In contrast, the 0.6Rh0.23Co/SiO2 bimetallic catalysts gave 75 mol/(molRh·h) productivity and 46% propanal selectivity. The catalyst productivity was much higher than that of 0.6Rh/SiO2, and the selectivity was also enhanced. During the evaluation time, the catalyst performance was kept stable (Figure S3). The change in the Rh and Co contents was negligible based on inductively coupled plasma atomic emission spectroscopy. However, the leaching of the metal may become significant in a liquid reaction system.'),\n",
    "    models=[TurnOverFrequency, Compound]\n",
    "    )\n",
    "doc.records.serialize()"
   ]
  },
  {
   "cell_type": "code",
   "execution_count": null,
   "id": "9874deb9",
   "metadata": {},
   "outputs": [],
   "source": [
    "from chemdataextractor.model import QuantityModel\n",
    "from chemdataextractor.model.units import Dimension, Time\n",
    "from chemdataextractor.parse.elements import I\n",
    "from chemdataextractor.model.model import Compound, StringType\n",
    "from chemdataextractor.doc import Document,Paragraph\n",
    "\n",
    "\n",
    "class Conversion(Dimension):\n",
    "    constituent_dimensions = Time() ** (-1)\n",
    "\n",
    "class ConversionModel(QuantityModel):\n",
    "    dimensions = Conversion()\n",
    "    \n",
    "class TurnOverFrequency (ConversionModel):\n",
    "    expression = I('TOF')\n",
    "    specifier = StringType(parse_expression=expression, required=True, contextual=False, updatable=False)\n",
    "    compound = ModelType(Compound, required=False, contextual=False)\n",
    "    \n",
    "doc = Document(\n",
    "    Paragraph('For 0.6Rh/SiO2, the catalyst productivity was 44 mol/(molRh·h) and the TOF was 2511 h−1 at the time on stream(TOS) of 5 h. '),\n",
    "    models=[TurnOverFrequency]\n",
    "    )\n",
    "doc.records.serialize()"
   ]
  },
  {
   "cell_type": "code",
   "execution_count": null,
   "id": "6210b0d9",
   "metadata": {},
   "outputs": [],
   "source": [
    "import re\n",
    "line= \"m s-1\"\n",
    "matchObj= re.search(r'(1/s(econd(s)?)?|s-1)',line)\n",
    "matchObj"
   ]
  },
  {
   "cell_type": "code",
   "execution_count": null,
   "id": "9d828456",
   "metadata": {},
   "outputs": [],
   "source": []
  }
 ],
 "metadata": {
  "kernelspec": {
   "display_name": "Python 3 (ipykernel)",
   "language": "python",
   "name": "python3"
  },
  "language_info": {
   "codemirror_mode": {
    "name": "ipython",
    "version": 3
   },
   "file_extension": ".py",
   "mimetype": "text/x-python",
   "name": "python",
   "nbconvert_exporter": "python",
   "pygments_lexer": "ipython3",
   "version": "3.7.12"
  }
 },
 "nbformat": 4,
 "nbformat_minor": 5
}
